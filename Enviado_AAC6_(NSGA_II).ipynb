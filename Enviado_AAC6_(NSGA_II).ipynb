{
  "cells": [
    {
      "cell_type": "markdown",
      "metadata": {
        "id": "view-in-github",
        "colab_type": "text"
      },
      "source": [
        "<a href=\"https://colab.research.google.com/github/CabeludoCego/SistEvolutivos/blob/main/Enviado_AAC6_(NSGA_II).ipynb\" target=\"_parent\"><img src=\"https://colab.research.google.com/assets/colab-badge.svg\" alt=\"Open In Colab\"/></a>"
      ]
    },
    {
      "cell_type": "code",
      "execution_count": null,
      "metadata": {
        "id": "VzoOvygZY_Gp"
      },
      "outputs": [],
      "source": [
        "import pandas as pd\n",
        "import matplotlib.pyplot as plt\n",
        "import numpy as np\n",
        "import random as U\n",
        "import math\n",
        "import time"
      ]
    },
    {
      "cell_type": "markdown",
      "source": [
        "# Funções: Min-Ex versão NSGA-II\n"
      ],
      "metadata": {
        "id": "c0GlAiNbQWKU"
      }
    },
    {
      "cell_type": "code",
      "source": [
        "def f1(x1):\n",
        "  return x1\n",
        "\n",
        "def f2(x1,x2):\n",
        "  return ((1+x2)/x1)\n",
        "\n",
        "def fitnessMO(vt_real, Fit, pop):\n",
        "  for i in range(pop):\n",
        "    Fit[i,0] = f1(vt_real[i][0])\n",
        "    Fit[i,1] = f2(vt_real[i][0], vt_real[i][1])\n",
        "\n",
        "def Dominando(Fit, vRank, pop):\n",
        "  for i in range(pop):\n",
        "    Fi1 = Fit[i,0]\n",
        "    Fi2 = Fit[i,1]\n",
        "    ni = 0\n",
        "    for k in range(pop):\n",
        "      if ((Fi1) > Fit[k,0]):    # Se é pior que um objetivo E\n",
        "        if ((Fi2) > Fit[k,1]):  # Se é pior que o segundo objetivo\n",
        "          ni += 1             # É dominada\n",
        "    vRank[i] = ni + 1         # Atribui um rank\n",
        "\n",
        "\n",
        "def Fdist(x,y, xmax, xmin):\n",
        "  d = 0\n",
        "  a = 0\n",
        "  for i in range(nx):\n",
        "    a += ( ( (x[i] - y[i])/(xmax[i] - xmin[i]) )**2)\n",
        "  d = np.sqrt(a)\n",
        "  return d\n",
        "\n",
        "def nicho(d, alfaShare, alfa):\n",
        "  if d <= alfaShare:\n",
        "    f = 1 - (d/alfaShare)**alfa\n",
        "  else:\n",
        "    f = 0\n",
        "  return f"
      ],
      "metadata": {
        "id": "v3cZkGa8QWKV"
      },
      "execution_count": null,
      "outputs": []
    },
    {
      "cell_type": "code",
      "source": [
        "def sortir(vetor, vetorIndices, elementos):\n",
        "  indices = (np.argsort(vetorIndices, axis=0))\n",
        "  n = len(vetor[0])\n",
        "  vetorSortido = np.zeros((elementos,n))\n",
        "  i = 0\n",
        "  while i < elementos:\n",
        "    vetorSortido[i] = vetor[int(indices[i])]\n",
        "    i = i + 1\n",
        "  return vetorSortido\n",
        "\n",
        "def sortirMaior(vetor, vetorIndices, elementos):\n",
        "  indices = (np.argsort(vetorIndices, axis=0))\n",
        "  n = len(vetor[0])\n",
        "  vetorSortido = np.zeros((elementos,n))\n",
        "  i = 0\n",
        "  while i < elementos:\n",
        "    vetorSortido[i] = vetor[int(indices[i])]\n",
        "    i = i + 1\n",
        "  return vetorSortido[::-1]\n",
        "\n",
        "def sortirFit(crowdFit, Len, m):\n",
        "  indices = (np.argsort(crowdFit[:,m], axis=0))\n",
        "  cF = np.copy(crowdFit)\n",
        "  for i in range(Len):\n",
        "    cF[i] = crowdFit[int(indices[i])]\n",
        "  return cF\n",
        "\n",
        "def sortirMaior2(vetor, elementos):\n",
        "  indices = (np.argsort(vetor, axis=0))\n",
        "  n = len(vetor[0])\n",
        "  vetorSortido = np.zeros((elementos,n))\n",
        "  i = 0\n",
        "  while i < elementos:\n",
        "    vetorSortido[i] = vetor[int(indices[i])]\n",
        "    i = i + 1\n",
        "  return [vetorSortido[::-1], indices[::-1]]"
      ],
      "metadata": {
        "id": "ir8zhJm0QWKV"
      },
      "execution_count": null,
      "outputs": []
    },
    {
      "cell_type": "code",
      "source": [
        "# Etapa 3: Obter número total de ranks\n",
        "def rankMembers(vRank_s):\n",
        "  r_count = []    # Se não existe no vetor, anexa a ele\n",
        "  for i in vRank_s:\n",
        "    if (i not in r_count): r_count.append(i)  \n",
        "\n",
        "  numRanks = len(r_count)\n",
        "\n",
        "  memberCount = np.zeros((numRanks,2), dtype=int)\n",
        "\n",
        "  Elem_contados = []\n",
        "  n = 0\n",
        "  for i in vRank_s:\n",
        "    if i not in Elem_contados:\n",
        "      Elem_contados.append(i)  # Anexado à lista de ranks únicos\n",
        "      memberCount[n,0] = i\n",
        "      memberCount[n,1] = list(vRank_s).count(i)\n",
        "      n += 1\n",
        "\n",
        "  return memberCount"
      ],
      "metadata": {
        "id": "NohGQpxvQWKV"
      },
      "execution_count": null,
      "outputs": []
    },
    {
      "cell_type": "code",
      "source": [
        "def bin2real(b, xmin, xmax):\n",
        "  # Conversão de inteiro para binário\n",
        "  s = 0\n",
        "  n = len(b)        # [s1,l] => Pega a dimensão 2\n",
        "  for l in range(n):\n",
        "    s = s + b[l]*pow(2,l)\n",
        "  return xmin + (xmax - xmin)*s/(pow(2,n)-1)"
      ],
      "metadata": {
        "id": "N7Dp_Z6mQWKV"
      },
      "execution_count": null,
      "outputs": []
    },
    {
      "cell_type": "code",
      "source": [
        "# Criar divisor de bits a serem usados!\n",
        "def xj_range(bits, nx):\n",
        "  limites_xj = np.zeros((2,nx), dtype=int)\n",
        "  cont = 0\n",
        "  ik = bits\n",
        "  while ik <= (bits*nx):\n",
        "    \n",
        "    if ((ik) % bits == 0):    # Se ik for divisível por 20\n",
        "      \n",
        "      limites_xj[1,cont] = ik-1  # Atribui ub: 20, 40, 60, 80 (-1)\n",
        "      cont = cont + 1            # incrementa\n",
        "      if (cont < nx):\n",
        "        limites_xj[0,cont] = ik # Atribui lb: 20, 40, 60 (-1)\n",
        "      \n",
        "    ik = ik + 1\n",
        "  return limites_xj"
      ],
      "metadata": {
        "id": "GETYVOM6QWKV"
      },
      "execution_count": null,
      "outputs": []
    },
    {
      "cell_type": "code",
      "source": [
        "xj_range(20, 4)"
      ],
      "metadata": {
        "colab": {
          "base_uri": "https://localhost:8080/"
        },
        "outputId": "72e4b8ee-9aab-4c12-e509-db385a8225ae",
        "id": "07YUaQpAQWKW"
      },
      "execution_count": null,
      "outputs": [
        {
          "output_type": "execute_result",
          "data": {
            "text/plain": [
              "array([[ 0, 20, 40, 60],\n",
              "       [19, 39, 59, 79]])"
            ]
          },
          "metadata": {},
          "execution_count": 16
        }
      ]
    },
    {
      "cell_type": "code",
      "source": [
        "# Dividir X em nx parcelas de acordo com o limite em Xj_range\n",
        "# Supondo X = vt[i,:]\n",
        "\n",
        "def xj_divide(X, bits, nx):\n",
        "  limites = xj_range(bits,nx)\n",
        "\n",
        "  Xt = np.zeros((nx,bits), dtype=int)\n",
        "  i = 0\n",
        "  for i in range (nx):\n",
        "    Xt[i,:] = X[limites[0,i]:(limites[1,i]+1)]\n",
        "                                    # -> [0:19], python pega do 0 ao 18.\n",
        "                                    # O +1 resolve o problema\n",
        "  return Xt"
      ],
      "metadata": {
        "id": "TnJevyUGQWKW"
      },
      "execution_count": null,
      "outputs": []
    },
    {
      "cell_type": "code",
      "source": [
        "def criarpop(vetor, pop, cromo):\n",
        "  i = 0\n",
        "  for i in range(pop):                 # Cria-se uma linha(indivíduo) por vez\n",
        "    n = (np.random.rand(1,cromo))      # Vetor randômico de números entre 0 e 1\n",
        "    nr = np.around(n, 0)               # Arrendondam-se entre 0 e 1\n",
        "    vetor[i,:] = nr[:]  "
      ],
      "metadata": {
        "id": "nZC4B6WWQWKW"
      },
      "execution_count": null,
      "outputs": []
    },
    {
      "cell_type": "code",
      "source": [
        "def Bin_xyzw_Real(vetor_bin, vetor_real, pop, xmin, xmax):\n",
        "  for i in range(pop):\n",
        "    Xj = vetor_bin[i,:]              # Extrai um individuo da pop\n",
        "    Xj_r = xj_divide(Xj, bits, nx)  # Leva para dividir nas N componentes dela (x,y,z,w)\n",
        "                            # Passa cada componente para valor real\n",
        "    Xj_r = np.transpose(Xj_r)\n",
        "    k = 0\n",
        "    for k in range (nx):\n",
        "      vetor_real[i,k] = bin2real(Xj_r[:,k], xmin[k], xmax[k])"
      ],
      "metadata": {
        "id": "YsSHA0msQWKW"
      },
      "execution_count": null,
      "outputs": []
    },
    {
      "cell_type": "code",
      "source": [
        "def torneio(Fit_Especial,k):\n",
        "  # Especial: Escalonada, compartilhada\n",
        "  melhor_fitness = -1\n",
        "  vencedor = -1\n",
        "  for i in range(k):\n",
        "    competidor = U.randint(0,len(Fit_Especial)-1)\n",
        "    if Fit_Especial[competidor] > melhor_fitness:\n",
        "      melhor_fitness = Fit_Especial[competidor]\n",
        "      vencedor = competidor\n",
        "  return vencedor"
      ],
      "metadata": {
        "id": "bRSf-IgVQWKW"
      },
      "execution_count": null,
      "outputs": []
    },
    {
      "cell_type": "code",
      "source": [
        "def selecao_maximizar(FitComp, pop):\n",
        "  i_selecionados = np.zeros((pop,1), dtype=int)\n",
        "  for k in range(pop):\n",
        "    i_selecionados[k] = torneio(FitComp, 3)\n",
        "  return i_selecionados"
      ],
      "metadata": {
        "id": "YYlUMnHVQWKX"
      },
      "execution_count": null,
      "outputs": []
    },
    {
      "cell_type": "code",
      "source": [
        "def criaPares(pop, indicesSelec):\n",
        "  vetor_pares = np.zeros((pop,2), dtype=int) # Indices dos pares \n",
        "  for p in range(pop):   # Preencher todos os filhos\n",
        "    for k in range(2):              # Escolher 2 dos selecionados de forma randomica\n",
        "      r = int(np.floor(pop*(U.random())))\n",
        "      vetor_pares[p,k] = indicesSelec[r]\n",
        "    if vetor_pares[p,k] == vetor_pares[p,k-1]:\n",
        "      r = int(np.floor(pop*(U.random())))\n",
        "      vetor_pares[p,k] = indicesSelec[r]      \n",
        "  return vetor_pares"
      ],
      "metadata": {
        "id": "MQ0FZNKqQWKX"
      },
      "execution_count": null,
      "outputs": []
    },
    {
      "cell_type": "code",
      "source": [
        "def cruzamentoUmPonto(P_1, P_2, Filho):  # Crossover de 1 ponto\n",
        "  # Gerar máscara\n",
        "  m = int(np.floor(cromo*U.random()))   # Gera num entre 0 e cromo\n",
        "  Filho[0:m] = P_1[0:m]\n",
        "  Filho[m:cromo] = P_2[m:cromo]\n",
        "\n",
        "  return Filho"
      ],
      "metadata": {
        "id": "NMzInkuZQWKX"
      },
      "execution_count": null,
      "outputs": []
    },
    {
      "cell_type": "code",
      "source": [
        "def cruzamentoDoisPontos(P_1, P_2, Filho):\n",
        "  r = U.random()\n",
        "  if r <= Px:\n",
        "    rng2 = np.random.default_rng()\n",
        "    ponto1 = rng2.integers(cromo, size=1)\n",
        "    ponto2 = rng2.integers(cromo, size=1)\n",
        "    [maior,menor] = [np.max([ponto1,ponto2]),np.min([ponto1,ponto2])]\n",
        "    mask = np.zeros(cromo,dtype=int)\n",
        "    for j in range(menor,maior):\n",
        "      mask[j] = 1\n",
        "    # realiza o crossover\n",
        "    for jj in range(cromo):\n",
        "      if mask[jj] == 1:\n",
        "        Filho[jj] = P_1[jj]\n",
        "      else:\n",
        "        Filho[jj] = P_2[jj]\n",
        "  return Filho"
      ],
      "metadata": {
        "id": "zyRb8XjBEnA-"
      },
      "execution_count": null,
      "outputs": []
    },
    {
      "cell_type": "code",
      "source": [
        "def cruzamento(vetor_bin_S, indice_pares, filhos, Px):\n",
        "  for i in range(pop):\n",
        "    r = U.random()  # Porcentagem de crossover\n",
        "    if (r <= Px):\n",
        "      P_1 = vetor_bin_S[indice_pares[i,0]]\n",
        "      P_2 = vetor_bin_S[indice_pares[i,1]]\n",
        "      #filhos[i,:] = cruzamentoUmPonto(P_1, P_2, filhos[i,:])\n",
        "      filhos[i,:] = cruzamentoDoisPontos(P_1, P_2, filhos[i,:])\n",
        "    else:\n",
        "      filhos[i,:] = vetor_bin_S[indice_pares[i,0]]\n",
        "  # Se não tiver crossover, ele simplesmente deixa o filho como estava."
      ],
      "metadata": {
        "id": "RFL0o4mQQWKX"
      },
      "execution_count": null,
      "outputs": []
    },
    {
      "cell_type": "code",
      "source": [
        "# Taxa de mutação: Pm = 0.02\n",
        "def mutacao(filho, cromo, Pm):\n",
        "  for i in range(cromo):\n",
        "    r = U.random()    # Porcentagem de crossover\n",
        "    if (r < Pm):     \n",
        "      filho[i] = int(not filho[i]) # Inversão com porta NOT, depois converte pra int\n",
        "  return filho"
      ],
      "metadata": {
        "id": "sdFmx9fLQWKX"
      },
      "execution_count": null,
      "outputs": []
    },
    {
      "cell_type": "code",
      "source": [
        "def selecao_NSGA2(Rank_s, CrowdSorted, pop, rodadas):\n",
        "  i_selecionados = np.zeros((pop,1), dtype=int)\n",
        "  for k in range(pop):\n",
        "    i_selecionados[k] = torneio_CSorting(Rank_s , CrowdSorted , rodadas)\n",
        "  return i_selecionados\n",
        "\n",
        "def torneio_CSorting(Rank , CrowdSorting , k):\n",
        "  # Especial: Escalonada, compartilhada\n",
        "  vencedor_rank = np.inf\n",
        "  vencedor_crowdsort = -np.inf\n",
        "  vencedor = -1\n",
        "  for i in range(k):\n",
        "    competidor = U.randint(0,len(CrowdSorting)-1)\n",
        "    if Rank[competidor] <= vencedor_rank:                 # Melhor Rank ou igual\n",
        "      if (CrowdSorting[competidor] > vencedor_crowdsort):   # Maior crowdsort \n",
        "        vencedor_rank = Rank[competidor]\n",
        "        vencedor_crowdsort = CrowdSorting[competidor]\n",
        "        vencedor = competidor\n",
        "  return vencedor"
      ],
      "metadata": {
        "id": "8OYFfnFSlFOB"
      },
      "execution_count": null,
      "outputs": []
    },
    {
      "cell_type": "code",
      "source": [
        "def crowdSortRank(crowdFit, crowdLen, m):\n",
        "  # Em um Rank unico\n",
        "  di = np.zeros((crowdLen,1))\n",
        "  for m in range(M):   # Ordem crescente: o 1o é o \"pior\" (maximizar)\n",
        "    indices = (np.argsort(crowdFit[:,m], axis=0))\n",
        "    #if m == 0:\n",
        "    di[indices[0]] = np.inf                   # Torna infinitas as fronteiras\n",
        "    di[indices[int(crowdLen-1)]] = np.inf \n",
        "    fitOrdenada = sortirFit(crowdFit, crowdLen, m) \n",
        "    for i in range(crowdLen):\n",
        "      if (di[i] != np.inf):\n",
        "        #print('Calcular para indv ' + str(i))\n",
        "        ik = (np.where(indices == i))         # Encontrar indice em Indices\n",
        "        # Permite aplicar em fitOrdenada\n",
        "        # E daí pegar os adjacentes\n",
        "        f_jAnt = fitOrdenada[indices[int(ik[0]-1)],m]\n",
        "        f_jPos = fitOrdenada[indices[int(ik[0]+1)],m]\n",
        "        di[i] += (f_jPos - f_jAnt)/(fBounds[1][m] - fBounds[0][m])\n",
        "  return di"
      ],
      "metadata": {
        "id": "_7d2QymRlFOB"
      },
      "execution_count": null,
      "outputs": []
    },
    {
      "cell_type": "code",
      "source": [
        "def crowdSorting(vetor, Fit_vetor, Rank_s, memberCount, pop):\n",
        "  # Faz CrowdSorting na população inteira\n",
        "  diFinal = np.zeros((pop,1))\n",
        "  pos = 0\n",
        "  ri = 0\n",
        "  for r in memberCount[:,0]:\n",
        "    crowdRank = memberCount[ri,0]\n",
        "    #print('Lidando com rank' + str(crowdRank))\n",
        "    crowdLen = memberCount[ri,1]\n",
        "    if (crowdLen > 2):\n",
        "      crowdVetor = np.zeros((crowdLen,cromo))\n",
        "      crowdFit = np.zeros((crowdLen,M))\n",
        "      n = 0\n",
        "      for k in range(pop):                 # Pegar elementos do Rank\n",
        "        if (Rank_s[k] == crowdRank):            # E juntar no crowdVetor e crowdFit\n",
        "          crowdVetor[n,:] = vetor[k,:]\n",
        "          crowdFit[n,:] = Fit_vetor[k,:]\n",
        "          n = n + 1\n",
        "      \n",
        "      di = crowdSortRank(crowdFit, crowdLen, M)\n",
        "        \n",
        "        # Alocar di\n",
        "\n",
        "    elif (crowdLen == 2):\n",
        "      # di = (np.inf)*np.ones((crowdLen,1))\n",
        "      di = (-1)*np.ones((crowdLen,1))\n",
        "\n",
        "\n",
        "    elif (crowdLen == 1):\n",
        "      # di = (np.inf)*np.ones((1,1))\n",
        "      di = (-1)*np.ones((1,1))\n",
        "\n",
        "    # Antes de incrementar o rank:\n",
        "    \n",
        "    # Anexar di ao vetor de Crowdsorting.\n",
        "    for i in range(crowdLen):\n",
        "      diFinal[int(pos)] = di[i]\n",
        "      pos += 1\n",
        "\n",
        "    ri += 1\n",
        "  return diFinal"
      ],
      "metadata": {
        "id": "RqcBYNVulFOC"
      },
      "execution_count": null,
      "outputs": []
    },
    {
      "cell_type": "markdown",
      "source": [
        "# NSGA-II em loop: MIN-EX"
      ],
      "metadata": {
        "id": "K2VrUdCRwThH"
      }
    },
    {
      "cell_type": "code",
      "source": [
        "# Essenciais\n",
        "def f1(x1):\n",
        "  return x1\n",
        "\n",
        "def f2(x1,x2):\n",
        "  return ((1+x2)/x1)\n",
        "\n",
        "def Dominando(Fit, vRank, pop):\n",
        "  for i in range(pop):\n",
        "    Fi1 = Fit[i,0]\n",
        "    Fi2 = Fit[i,1]\n",
        "    ni = 0\n",
        "    for k in range(pop):\n",
        "      if ((Fi1) > Fit[k,0]):    # Se é pior que um objetivo E\n",
        "        if ((Fi2) > Fit[k,1]):  # Se é pior que o segundo objetivo\n",
        "          ni += 1             # É dominada\n",
        "    vRank[i] = ni + 1         # Atribui um rank"
      ],
      "metadata": {
        "id": "Ipa4lCu8Zim1"
      },
      "execution_count": null,
      "outputs": []
    },
    {
      "cell_type": "code",
      "source": [
        "# Parâmetros AG bin\n",
        "pop = 40\n",
        "MaxGen = 400\n",
        "doupop = int(pop*2)\n",
        "bits = 40\n",
        "nx = 2\n",
        "cromo = bits*nx\n",
        "Px = 0.90\n",
        "Pm = 0.02\n",
        "\n",
        "limXY =  [[0.1, 0],    # X, Y   # Min\n",
        "          [1  , 5]]             # Max\n",
        "xmin  = limXY[0]\n",
        "xmax  = limXY[1]\n",
        "\n",
        "fBounds = [[0.1,  0],    # X, Y   # Min\n",
        "           [1  , 60]]             # Max\n",
        "\n",
        "# Criação de vetores\n",
        "vt_bin = np.zeros((pop, cromo), dtype=int)\n",
        "vt_real = np.zeros((pop, nx), dtype=float)\n",
        "Fit = np.zeros((pop,2))\n",
        "vRank = np.zeros((pop,1), dtype=int)\n",
        "\n",
        "filhos = np.zeros((pop, cromo), dtype=int)\n",
        "fi_real = np.zeros((pop, nx), dtype=float)\n",
        "fi_Fit = np.zeros((pop,2))\n",
        "fi_Rank = np.zeros((pop,1), dtype=int)\n",
        "\n",
        "Rt_real = np.zeros((doupop, nx), dtype=float)\n",
        "Rt_Rank = np.zeros((doupop,1), dtype=int)\n",
        "Fit_Rt = np.zeros((doupop,nx))\n",
        "\n",
        "Pt2_real = np.zeros((pop, nx), dtype=float)\n",
        "Pt2_Fit = np.zeros((pop,2))\n",
        "Pt2_Rank = np.zeros((pop,1), dtype=int)\n",
        "\n",
        "Qt2 = np.zeros((pop,cromo), dtype=int)\n",
        "Qt2_real = np.zeros((pop, nx), dtype=float)\n",
        "Qt2_Fit = np.zeros((pop,2))"
      ],
      "metadata": {
        "id": "s_JsoMpzwThI"
      },
      "execution_count": null,
      "outputs": []
    },
    {
      "cell_type": "code",
      "source": [
        "# Parâmetros NSGA\n",
        "M = 2    # Funções MO\n",
        "\n",
        "# Inicialização\n",
        "criarpop(vt_bin, pop, cromo)\n",
        "print(vt_bin[0:3,:])\n",
        "\n",
        "# Conversão em Real e Cálculo de Fitness\n",
        "Bin_xyzw_Real(vt_bin, vt_real, pop, xmin, xmax)\n",
        "fitnessMO(vt_real, Fit, pop)\n",
        "\n",
        "print(Fit[0:3,:])\n"
      ],
      "metadata": {
        "colab": {
          "base_uri": "https://localhost:8080/"
        },
        "outputId": "1850e597-8ae0-4127-aec9-fcd546020afc",
        "id": "w6Wj9X19wThK"
      },
      "execution_count": null,
      "outputs": [
        {
          "output_type": "stream",
          "name": "stdout",
          "text": [
            "[[0 1 0 0 0 1 1 1 0 0 0 1 0 0 1 0 0 1 1 1 0 0 0 1 0 0 0 1 1 1 1 1 0 0 1 1\n",
            "  1 0 1 0 1 0 1 1 0 1 1 1 0 0 0 0 1 1 1 0 1 1 1 1 0 0 1 1 0 1 0 1 1 1 0 1\n",
            "  1 0 0 1 0 0 1 0]\n",
            " [1 1 1 0 0 1 0 1 0 0 0 1 0 0 1 0 0 1 1 0 1 0 0 1 0 0 0 0 0 1 1 1 1 1 0 0\n",
            "  0 0 0 0 1 0 0 0 0 0 0 0 1 1 1 1 0 0 0 1 0 0 1 1 0 0 0 0 0 0 1 0 1 0 0 1\n",
            "  1 0 1 1 1 0 0 0]\n",
            " [1 0 0 0 0 1 1 0 0 0 1 1 0 0 1 1 0 1 0 1 1 1 1 0 0 0 1 1 1 0 0 0 0 1 1 1\n",
            "  1 1 0 1 0 0 1 1 1 1 1 0 1 0 0 0 0 0 1 1 0 1 0 1 0 0 0 1 0 1 0 0 0 1 1 0\n",
            "  0 0 1 0 0 1 0 1]]\n",
            "[[ 0.42685089  5.71636086]\n",
            " [ 0.11363111 13.88441523]\n",
            " [ 0.76835986  5.48004052]]\n"
          ]
        }
      ]
    },
    {
      "cell_type": "code",
      "source": [
        "# Dominância entre Pais, NSGA-II\n",
        "\n",
        "Dominando(Fit, vRank, pop)\n",
        "\n",
        "vRank_s = sortir(vRank, vRank, pop)\n",
        "vt_real_s = sortir(vt_real, vRank, pop)\n",
        "vt_bin_s = sortir(vt_bin, vRank, pop)\n",
        "Fit_s = sortir(Fit, vRank, pop)\n",
        "\n",
        "vt_bin_s = vt_bin_s.astype(int)\n",
        "vRank_s = vRank_s.astype(int)\n",
        "\n",
        "# Número de ranks e membros por rank e Fit compartilhada\n",
        "memberCount = rankMembers(vRank_s)\n",
        "\n",
        "Pt1_CrowdSort = crowdSorting(vt_bin_s, Fit_s, vRank_s, memberCount, pop)\n",
        "\n",
        "### Algoritmo Genético binário\n",
        "\n",
        "iSelecionados = selecao_NSGA2(vRank_s , Pt1_CrowdSort, pop, 4)\n",
        "paresRep = criaPares(pop, iSelecionados)\n",
        "cruzamento(vt_bin_s, paresRep, filhos, Px)      # Crossover\n",
        "for i in range(pop):                          \n",
        "  filhos[i,:] = mutacao(filhos[i,:],cromo,Pm)   # Mutação \n"
      ],
      "metadata": {
        "id": "uzaJG3MGwThL"
      },
      "execution_count": null,
      "outputs": []
    },
    {
      "cell_type": "markdown",
      "source": [
        "<COMEÇA O NSGA-II>\n"
      ],
      "metadata": {
        "id": "KwkEhsHXwThM"
      }
    },
    {
      "cell_type": "code",
      "source": [
        "# while gen < MaxGen:\n",
        "gen = 0\n",
        "vetorP = np.copy(vt_bin_s)\n",
        "vetorQ = np.copy(filhos)\n",
        "\n",
        "while gen < MaxGen:\n",
        "\n",
        "# Etapa 1: Unir pais e filhos em uma única população\n",
        "  Rt = np.concatenate((vetorP, vetorQ))\n",
        "  Bin_xyzw_Real(Rt, Rt_real, doupop, xmin, xmax)\n",
        "  fitnessMO(Rt_real, Fit_Rt, doupop)\n",
        "  Dominando(Fit_Rt, Rt_Rank, doupop)\n",
        "\n",
        "  Rt_Count = rankMembers(Rt_Rank)\n",
        "  indices = np.argsort(Rt_Count[:,0],axis=0)\n",
        "  Rt_Count_s = np.copy(Rt_Count)\n",
        "  for i in range(len(Rt_Count)):\n",
        "    Rt_Count_s[i,:] = Rt_Count[int(indices[i])]\n",
        "\n",
        "  # Definir vetor PT+1 = PT2\n",
        "  Pt2 = []\n",
        "  l = 0\n",
        "  i = 0\n",
        "\n",
        "  while l <= pop:\n",
        "    if (l + Rt_Count_s[i,1]  <= pop):\n",
        "      rank = Rt_Count_s[i,0]\n",
        "      for k in range(doupop):\n",
        "        if (Rt_Rank[k] == rank):\n",
        "          Pt2.append(Rt[k,:])\n",
        "      i = i + 1\n",
        "      l = len(Pt2)\n",
        "    else:\n",
        "      l1 = l\n",
        "      l = int(pop*4)\n",
        "\n",
        "  [crowdRank,crowdLen] = Rt_Count_s[i,:]\n",
        "  l = l1\n",
        "\n",
        "  # Crowd Sorting para definir quem entra em Pt2\n",
        "  crowdVetor = np.zeros((crowdLen,cromo))\n",
        "  crowdFit = np.zeros((crowdLen,M))\n",
        "  n = 0\n",
        "  for k in range(doupop):\n",
        "      if (Rt_Rank[k] == crowdRank):\n",
        "        crowdVetor[n,:] = Rt[k,:]\n",
        "        crowdFit[n,:] = Fit_Rt[k,:]\n",
        "        n = n + 1\n",
        "\n",
        "  di = crowdSortRank(crowdFit, crowdLen, M)\n",
        "\n",
        "  # Pós di calculada: Sortir em ordem decrescente\n",
        "  # Pegar quantos faltam para topar Pt2\n",
        "\n",
        "  [di_s,inds] = sortirMaior2(di, crowdLen)\n",
        "  i = 0\n",
        "  while l < pop:\n",
        "    Pt2.append(crowdVetor[inds[i],:])\n",
        "    l += 1\n",
        "    i += 1\n",
        "\n",
        "  # Converter a lista Pt2 em um elemento numpy array\n",
        "  Pt2v = np.zeros((pop,cromo), dtype=int)\n",
        "  for i in range(pop):\n",
        "    Pt2v[i,:] = Pt2[i]\n",
        "\n",
        "  # Pegando a pop PT2:\n",
        "  Bin_xyzw_Real(Pt2v, Pt2_real, pop, xmin, xmax)\n",
        "  fitnessMO(Pt2_real, Pt2_Fit, pop)\n",
        "  Dominando(Pt2_Fit, Pt2_Rank, pop)\n",
        "\n",
        "  Pt2_Rank_s = sortir(Pt2_Rank, Pt2_Rank, pop)\n",
        "  Pt2_real_s = sortir(Pt2_real, Pt2_Rank, pop)\n",
        "  Pt2v_s = sortir(Pt2v, Pt2_Rank, pop)\n",
        "  Pt2_Fit_s = sortir(Pt2_Fit, Pt2_Rank, pop)\n",
        "\n",
        "  Pt2v_s = Pt2v_s.astype(int)\n",
        "  Pt2_Rank_s = Pt2_Rank_s.astype(int)\n",
        "\n",
        "  # Número de ranks e membros por rank e Fit compartilhada\n",
        "  Pt2Count = rankMembers(Pt2_Rank_s)\n",
        "\n",
        "  # Agora: Cálculo de Crowdsorting em cada rank\n",
        "  Pt2_CrowdSort = crowdSorting(Pt2v_s, Pt2_Fit_s, Pt2_Rank_s, Pt2Count, pop)\n",
        "\n",
        "  # Após calculados: meter o torneio Crowdsorting.\n",
        "  # Embutido na seleção\n",
        "\n",
        "  selecao_NSGA2(Pt2_Rank_s , Pt2_CrowdSort, pop, 3)\n",
        "\n",
        "  # Continuar AG como padrão \n",
        "  paresRep = criaPares(pop, iSelecionados)\n",
        "  cruzamento(Pt2v_s, paresRep, Qt2, Px)      # Crossover\n",
        "  for i in range(pop):                          \n",
        "    Qt2[i,:] = mutacao(Qt2[i,:],cromo,Pm)   # Mutação \n",
        "\n",
        "  \n",
        "  # Inicializar entradas da nova geração\n",
        "  vetorP = np.copy(Pt2v)\n",
        "  vetorQ = np.copy(Qt2)\n",
        "  gen = gen + 1"
      ],
      "metadata": {
        "id": "AjmxqtcJwThN"
      },
      "execution_count": null,
      "outputs": []
    },
    {
      "cell_type": "code",
      "source": [
        "Fit_fimMinEX = np.zeros((pop,nx), dtype=float)\n",
        "fitnessMO(Pt2_real, Fit_fimMinEX, pop)\n",
        "\n",
        "fig1, ax1 = plt.subplots()\n",
        "ax1.scatter(Fit_fimMinEX[:,0], Fit_fimMinEX[:,1])\n",
        "plt.title('NSGA-II para Min-Ex')\n",
        "plt.show()"
      ],
      "metadata": {
        "colab": {
          "base_uri": "https://localhost:8080/"
        },
        "outputId": "01f2e484-5b52-42a5-cce0-36dcaab161eb",
        "id": "rn4tBokQwThP"
      },
      "execution_count": null,
      "outputs": [
        {
          "output_type": "display_data",
          "data": {
            "text/plain": [
              "<Figure size 432x288 with 1 Axes>"
            ],
            "image/png": "[encoded data removed]"
          },
          "metadata": {
            "needs_background": "light"
          }
        }
      ]
    },
    {
      "cell_type": "markdown",
      "source": [
        "# NSGA-II em loop: Max-EX"
      ],
      "metadata": {
        "id": "x45MuzWoaJUq"
      }
    },
    {
      "cell_type": "code",
      "source": [
        "# Funções essenciais:\n",
        "def f1(x1):\n",
        "  return (1.1 - x1)\n",
        "\n",
        "def f2(x1,x2):\n",
        "  return (60 - ((1+x2)/x1))\n",
        "\n",
        "def Dominando(Fit, vRank, pop):  # Versão max\n",
        "  for i in range(pop):\n",
        "    Fi1 = Fit[i,0]\n",
        "    Fi2 = Fit[i,1]\n",
        "    ni = 0\n",
        "    for k in range(pop):\n",
        "      if ((Fi1) < Fit[k,0]):    # Se é pior que um objetivo E\n",
        "        if ((Fi2) < Fit[k,1]):  # Se é pior que o segundo objetivo\n",
        "          ni += 1             # É dominada\n",
        "    vRank[i] = ni + 1         # Atribui um rank"
      ],
      "metadata": {
        "id": "M-DICF8UaN2e"
      },
      "execution_count": null,
      "outputs": []
    },
    {
      "cell_type": "code",
      "source": [
        "# Parâmetros AG bin\n",
        "pop = 40\n",
        "MaxGen = 400\n",
        "doupop = int(pop*2)\n",
        "bits = 40\n",
        "nx = 2\n",
        "cromo = bits*nx\n",
        "Px = 0.90\n",
        "Pm = 0.02\n",
        "\n",
        "limXY =  [[0.1, 0],    # X, Y   # Min\n",
        "          [1  , 5]]             # Max\n",
        "xmin = limXY[0]\n",
        "xmax = limXY[1]\n",
        "\n",
        "fBounds = [[0.1,  0],    # X, Y   # Min\n",
        "           [1  , 60]]             # Max\n",
        "\n",
        "# Criação de vetores\n",
        "vt_bin = np.zeros((pop, cromo), dtype=int)\n",
        "vt_real = np.zeros((pop, nx), dtype=float)\n",
        "Fit = np.zeros((pop,2))\n",
        "vRank = np.zeros((pop,1), dtype=int)\n",
        "\n",
        "filhos = np.zeros((pop, cromo), dtype=int)\n",
        "fi_real = np.zeros((pop, nx), dtype=float)\n",
        "fi_Fit = np.zeros((pop,2))\n",
        "fi_Rank = np.zeros((pop,1), dtype=int)\n",
        "\n",
        "Rt_real = np.zeros((doupop, nx), dtype=float)\n",
        "Rt_Rank = np.zeros((doupop,1), dtype=int)\n",
        "Fit_Rt = np.zeros((doupop,nx))\n",
        "\n",
        "Pt2_real = np.zeros((pop, nx), dtype=float)\n",
        "Pt2_Fit = np.zeros((pop,2))\n",
        "Pt2_Rank = np.zeros((pop,1), dtype=int)\n",
        "\n",
        "Qt2 = np.zeros((pop,cromo), dtype=int)\n",
        "Qt2_real = np.zeros((pop, nx), dtype=float)\n",
        "Qt2_Fit = np.zeros((pop,2))"
      ],
      "metadata": {
        "id": "QJMwtkllaJUs"
      },
      "execution_count": null,
      "outputs": []
    },
    {
      "cell_type": "code",
      "source": [
        "# Parâmetros NSGA\n",
        "M = 2    # Funções MO\n",
        "\n",
        "# Inicialização\n",
        "criarpop(vt_bin, pop, cromo)\n",
        "print(vt_bin[0:3,:])\n",
        "\n",
        "# Conversão em Real e Cálculo de Fitness\n",
        "Bin_xyzw_Real(vt_bin, vt_real, pop, xmin, xmax)\n",
        "fitnessMO(vt_real, Fit, pop)\n",
        "\n",
        "print(Fit[0:3,:])\n"
      ],
      "metadata": {
        "colab": {
          "base_uri": "https://localhost:8080/"
        },
        "outputId": "31c448ce-d93f-4351-e7e8-69e5ef93032a",
        "id": "BHEuXwvhaJUu"
      },
      "execution_count": null,
      "outputs": [
        {
          "output_type": "stream",
          "name": "stdout",
          "text": [
            "[[1 0 0 1 0 0 1 0 0 0 1 1 1 1 0 0 1 0 0 0 0 1 0 1 0 0 0 0 0 0 1 0 1 1 1 0\n",
            "  0 0 0 0 1 1 1 1 1 0 0 1 1 0 0 0 1 0 1 1 0 0 1 0 1 0 1 0 1 0 1 1 1 0 1 0\n",
            "  0 0 1 0 1 1 0 1]\n",
            " [1 0 0 0 1 0 1 0 0 0 0 0 0 1 1 1 1 1 0 1 1 0 0 0 1 0 0 1 0 0 0 1 1 1 0 1\n",
            "  1 0 1 1 0 1 0 0 1 1 0 1 1 1 1 0 0 1 1 0 0 0 1 1 0 0 0 1 1 1 0 1 1 1 0 0\n",
            "  0 0 1 0 0 1 1 1]\n",
            " [1 0 0 0 1 0 0 1 1 0 0 0 1 1 1 1 1 0 0 0 1 1 1 1 0 1 1 1 0 0 1 0 1 1 1 1\n",
            "  0 0 1 1 1 1 0 1 1 1 0 0 1 0 0 1 0 1 0 0 0 0 0 1 1 1 0 1 1 1 1 1 1 1 1 1\n",
            "  0 1 0 1 1 0 1 1]]\n",
            "[[ 0.97450307 23.96130492]\n",
            " [ 0.22819522 53.73980469]\n",
            " [ 0.27118148 53.63271668]]\n"
          ]
        }
      ]
    },
    {
      "cell_type": "code",
      "source": [
        "# Dominância entre Pais, NSGA-II\n",
        "\n",
        "Dominando(Fit, vRank, pop)\n",
        "\n",
        "vRank_s = sortir(vRank, vRank, pop)\n",
        "vt_real_s = sortir(vt_real, vRank, pop)\n",
        "vt_bin_s = sortir(vt_bin, vRank, pop)\n",
        "Fit_s = sortir(Fit, vRank, pop)\n",
        "\n",
        "vt_bin_s = vt_bin_s.astype(int)\n",
        "vRank_s = vRank_s.astype(int)\n",
        "\n",
        "# Número de ranks e membros por rank e Fit compartilhada\n",
        "memberCount = rankMembers(vRank_s)\n",
        "\n",
        "Pt1_CrowdSort = crowdSorting(vt_bin_s, Fit_s, vRank_s, memberCount, pop)\n",
        "\n",
        "### Algoritmo Genético binário\n",
        "\n",
        "iSelecionados = selecao_NSGA2(vRank_s , Pt1_CrowdSort, pop, 4)\n",
        "\n",
        "paresRep = criaPares(pop, iSelecionados)\n",
        "cruzamento(vt_bin_s, paresRep, filhos, Px)      # Crossover\n",
        "for i in range(pop):                          \n",
        "  filhos[i,:] = mutacao(filhos[i,:],cromo,Pm)   # Mutação \n"
      ],
      "metadata": {
        "id": "DVaxGSA1aJUx"
      },
      "execution_count": null,
      "outputs": []
    },
    {
      "cell_type": "markdown",
      "source": [
        "<COMEÇA O NSGA-II>\n"
      ],
      "metadata": {
        "id": "sqWnT-z_aJUy"
      }
    },
    {
      "cell_type": "code",
      "source": [
        "# while gen < MaxGen:\n",
        "gen = 0\n",
        "vetorP = np.copy(vt_bin_s)\n",
        "vetorQ = np.copy(filhos)\n",
        "\n",
        "while gen < MaxGen:\n",
        "\n",
        "# Etapa 1: Unir pais e filhos em uma única população\n",
        "  Rt = np.concatenate((vetorP, vetorQ))\n",
        "  Bin_xyzw_Real(Rt, Rt_real, doupop, xmin, xmax)\n",
        "  fitnessMO(Rt_real, Fit_Rt, doupop)\n",
        "  Dominando(Fit_Rt, Rt_Rank, doupop)\n",
        "\n",
        "  Rt_Count = rankMembers(Rt_Rank)\n",
        "  indices = np.argsort(Rt_Count[:,0],axis=0)\n",
        "  Rt_Count_s = np.copy(Rt_Count)\n",
        "  for i in range(len(Rt_Count)):\n",
        "    Rt_Count_s[i,:] = Rt_Count[int(indices[i])]\n",
        "\n",
        "  # Definir vetor PT+1 = PT2\n",
        "  Pt2 = []\n",
        "  l = 0\n",
        "  i = 0\n",
        "\n",
        "  while l <= pop:\n",
        "    if (l + Rt_Count_s[i,1]  <= pop):\n",
        "      rank = Rt_Count_s[i,0]\n",
        "      for k in range(doupop):\n",
        "        if (Rt_Rank[k] == rank):\n",
        "          Pt2.append(Rt[k,:])\n",
        "      i = i + 1\n",
        "      l = len(Pt2)\n",
        "    else:\n",
        "      l1 = l\n",
        "      l = int(pop*4)\n",
        "\n",
        "  [crowdRank,crowdLen] = Rt_Count_s[i,:]\n",
        "  l = l1\n",
        "\n",
        "  # Crowd Sorting para definir quem entra em Pt2\n",
        "  # CrowdSorting para o Rank: v2\n",
        "  crowdVetor = np.zeros((crowdLen,cromo))\n",
        "  crowdFit = np.zeros((crowdLen,M))\n",
        "  n = 0\n",
        "  for k in range(doupop):\n",
        "      if (Rt_Rank[k] == crowdRank):\n",
        "        crowdVetor[n,:] = Rt[k,:]\n",
        "        crowdFit[n,:] = Fit_Rt[k,:]\n",
        "        n = n + 1\n",
        "\n",
        "  di = crowdSortRank(crowdFit, crowdLen, M)\n",
        "\n",
        "  # Pós di calculada: Sortir em ordem decrescente\n",
        "  # Pegar quantos faltam para topar Pt2\n",
        "\n",
        "  [di_s,inds] = sortirMaior2(di, crowdLen)\n",
        "  i = 0\n",
        "  while l < pop:\n",
        "    Pt2.append(crowdVetor[inds[i],:])\n",
        "    l += 1\n",
        "    i += 1\n",
        "\n",
        "  \n",
        "  Pt2v = np.zeros((pop,cromo), dtype=int)\n",
        "  for i in range(pop):\n",
        "    Pt2v[i,:] = Pt2[i]\n",
        "\n",
        "  Pt2_real = np.zeros((pop, nx), dtype=float)\n",
        "  Pt2_Fit = np.zeros((pop,2))\n",
        "  Pt2_Rank = np.zeros((pop,1), dtype=int)\n",
        "\n",
        "  Qt2 = np.zeros((pop,cromo), dtype=int)\n",
        "  Qt2_real = np.zeros((pop, nx), dtype=float)\n",
        "  Qt2_Fit = np.zeros((pop,2))\n",
        "\n",
        "  # Pegando a pop PT2:\n",
        "  Bin_xyzw_Real(Pt2v, Pt2_real, pop, xmin, xmax)\n",
        "  fitnessMO(Pt2_real, Pt2_Fit, pop)\n",
        "  Dominando(Pt2_Fit, Pt2_Rank, pop)\n",
        "\n",
        "  Pt2_Rank_s = sortir(Pt2_Rank, Pt2_Rank, pop)\n",
        "  Pt2_real_s = sortir(Pt2_real, Pt2_Rank, pop)\n",
        "  Pt2v_s = sortir(Pt2v, Pt2_Rank, pop)\n",
        "  Pt2_Fit_s = sortir(Pt2_Fit, Pt2_Rank, pop)\n",
        "\n",
        "  Pt2v_s = Pt2v_s.astype(int)\n",
        "  Pt2_Rank_s = Pt2_Rank_s.astype(int)\n",
        "\n",
        "  # Número de ranks e membros por rank e Fit compartilhada\n",
        "  Pt2Count = rankMembers(Pt2_Rank_s)\n",
        "\n",
        "  # Agora: Cálculo de Crowdsorting em cada rank\n",
        "  # Gerando um vetor de crowdsort geral\n",
        "\n",
        "  Pt2_CrowdSort = crowdSorting(Pt2v_s, Pt2_Fit_s, Pt2_Rank_s, Pt2Count, pop)\n",
        "\n",
        "  # Após calculados: meter o torneio Crowdsorting.\n",
        "  # Embutido na seleção\n",
        "\n",
        "  selecao_NSGA2(Pt2_Rank_s , Pt2_CrowdSort, pop, 4)\n",
        "\n",
        "  # Continuar AG como padrão \n",
        "  paresRep = criaPares(pop, iSelecionados)\n",
        "  cruzamento(Pt2v_s, paresRep, Qt2, Px)      # Crossover\n",
        "  for i in range(pop):                          \n",
        "    Qt2[i,:] = mutacao(Qt2[i,:],cromo,Pm)   # Mutação \n",
        "\n",
        "  # Nova geração definida: Qt2 e Pt2\n",
        "  vetorP = np.copy(Pt2v)\n",
        "  vetorQ = np.copy(Qt2)\n",
        "  gen = gen + 1"
      ],
      "metadata": {
        "id": "vjB3KGX1aJUz"
      },
      "execution_count": null,
      "outputs": []
    },
    {
      "cell_type": "code",
      "source": [
        "Fit_fimMaxEX = np.zeros((pop,nx), dtype=float)\n",
        "fitnessMO(Pt2_real, Fit_fimMaxEX, pop)\n",
        "\n",
        "fig2, ax2 = plt.subplots()\n",
        "ax2.scatter(Fit_fimMaxEX[:,0], Fit_fimMaxEX[:,1])\n",
        "plt.title('NSGA para Max-Ex')\n",
        "plt.show()"
      ],
      "metadata": {
        "colab": {
          "base_uri": "https://localhost:8080/"
        },
        "outputId": "86be13fc-8982-45b8-8f26-681073f12ada",
        "id": "KVi_BrQ_aJU1"
      },
      "execution_count": null,
      "outputs": [
        {
          "output_type": "display_data",
          "data": {
            "text/plain": [
              "<Figure size 432x288 with 1 Axes>"
            ],
            "image/png": "[encoded data removed]"
          },
          "metadata": {
            "needs_background": "light"
          }
        }
      ]
    },
    {
      "cell_type": "markdown",
      "source": [
        "# Imagens finais"
      ],
      "metadata": {
        "id": "S0WXJjN-_ASx"
      }
    },
    {
      "cell_type": "code",
      "source": [
        "fig1, ax1 = plt.subplots()\n",
        "ax1.scatter(Fit_fimMinEX[:,0], Fit_fimMinEX[:,1])\n",
        "plt.title('NSGA-II para Min-Ex')\n",
        "plt.show()"
      ],
      "metadata": {
        "colab": {
          "base_uri": "https://localhost:8080/"
        },
        "id": "jYePJ-P4_C22",
        "outputId": "b2093e32-839b-4a68-b2e2-aa16ffc521c2"
      },
      "execution_count": null,
      "outputs": [
        {
          "output_type": "display_data",
          "data": {
            "text/plain": [
              "<Figure size 432x288 with 1 Axes>"
            ],
            "image/png": "[encoded data removed]"
          },
          "metadata": {
            "needs_background": "light"
          }
        }
      ]
    },
    {
      "cell_type": "code",
      "source": [
        "fig2, ax2 = plt.subplots()\n",
        "ax2.scatter(Fit_fimMaxEX[:,0], Fit_fimMaxEX[:,1])\n",
        "plt.title('NSGA-II para Max-Ex')\n",
        "plt.show()"
      ],
      "metadata": {
        "colab": {
          "base_uri": "https://localhost:8080/"
        },
        "id": "7ynN27zhBW6P",
        "outputId": "e8c5ff63-c8f2-4bbe-f4e0-9cde0ef2eab3"
      },
      "execution_count": null,
      "outputs": [
        {
          "output_type": "display_data",
          "data": {
            "text/plain": [
              "<Figure size 432x288 with 1 Axes>"
            ],
            "image/png": "[encoded data removed]"
          },
          "metadata": {
            "needs_background": "light"
          }
        }
      ]
    }
  ],
  "metadata": {
    "colab": {
      "name": "Enviado AAC6 - (NSGA II).ipynb",
      "provenance": [],
      "collapsed_sections": [
        "c0GlAiNbQWKU",
        "K2VrUdCRwThH",
        "x45MuzWoaJUq",
        "yxAgQ2hHP8Hf",
        "DBwgCSLPQAMX",
        "HGm8Z_I3ljqI",
        "5dGpMizbgGwR"
      ],
      "authorship_tag": "ABX9TyN11M0e7P9PqFDUsMshtiW4",
      "include_colab_link": true
    },
    "kernelspec": {
      "display_name": "Python 3",
      "name": "python3"
    },
    "language_info": {
      "name": "python"
    }
  },
  "nbformat": 4,
  "nbformat_minor": 0
}