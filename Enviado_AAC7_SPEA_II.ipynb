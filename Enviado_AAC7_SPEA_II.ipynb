{
  "cells": [
    {
      "cell_type": "markdown",
      "metadata": {
        "id": "view-in-github",
        "colab_type": "text"
      },
      "source": [
        "<a href=\"https://colab.research.google.com/github/CabeludoCego/SistEvolutivos/blob/main/Enviado_AAC7_SPEA_II.ipynb\" target=\"_parent\"><img src=\"https://colab.research.google.com/assets/colab-badge.svg\" alt=\"Open In Colab\"/></a>"
      ]
    },
    {
      "cell_type": "markdown",
      "source": [
        "Aluno: LUCAS LEMOS CARVALHO BATISTA"
      ],
      "metadata": {
        "id": "5HXQKBOYfjFV"
      }
    },
    {
      "cell_type": "markdown",
      "source": [
        "SPEA - Strenght Pareto Evolutionary Algorithm\n",
        "\n",
        "O II implica uma segunda versão do algoritmo, apesar do SPEA e SPEA II serem completamente diferentes."
      ],
      "metadata": {
        "id": "841CNgZOo-f_"
      }
    },
    {
      "cell_type": "markdown",
      "source": [
        "# SPEA II - PARA MIN-EX E MAX-EX"
      ],
      "metadata": {
        "id": "Owx753fGymyo"
      }
    },
    {
      "cell_type": "code",
      "execution_count": 67,
      "metadata": {
        "id": "VzoOvygZY_Gp"
      },
      "outputs": [],
      "source": [
        "import pandas as pd\n",
        "import matplotlib.pyplot as plt\n",
        "import numpy as np\n",
        "import random as U\n",
        "import math\n",
        "import time"
      ]
    },
    {
      "cell_type": "markdown",
      "source": [
        "# Funções essenciais: SPEA-II"
      ],
      "metadata": {
        "id": "RXLhTJtIVfyQ"
      }
    },
    {
      "cell_type": "code",
      "source": [
        "def fitnessMOMin(vt_real, Fit, pop):\n",
        "  for i in range(pop):\n",
        "    Fit[i,0] = vt_real[i][0]   # x1\n",
        "    Fit[i,1] = ((1+ vt_real[i][1] )/ vt_real[i][0] ) # (1 + x2) / x1"
      ],
      "metadata": {
        "id": "SEXfh3P-uzUt"
      },
      "execution_count": 68,
      "outputs": []
    },
    {
      "cell_type": "code",
      "source": [
        "def fitnessMOMax(vt_real, Fit, pop):\n",
        "  for i in range(pop):\n",
        "    Fit[i,0] = 1.1 - vt_real[i][0]   # x1\n",
        "    Fit[i,1] = (60 - ((1+vt_real[i][1])/vt_real[i][0]))"
      ],
      "metadata": {
        "id": "MAizoIpGyKlm"
      },
      "execution_count": 69,
      "outputs": []
    },
    {
      "cell_type": "code",
      "source": [
        "def sortir(vetor, vetorIndices, elementos):\n",
        "  indices = (np.argsort(vetorIndices, axis=0))\n",
        "  n = len(vetor[0])\n",
        "  vetorSortido = np.zeros((elementos,n))\n",
        "  i = 0\n",
        "  while i < elementos:\n",
        "    vetorSortido[i] = vetor[int(indices[i])]\n",
        "    i = i + 1\n",
        "  return vetorSortido"
      ],
      "metadata": {
        "id": "mzFyyeUmnpN3"
      },
      "execution_count": 70,
      "outputs": []
    },
    {
      "cell_type": "code",
      "source": [
        "# Gen 0: Usa pop\n",
        "# Gen 1+: Usa Unisize\n",
        "# LEN_A DEVE SER MENOR/IGUAL A ARQPOP\n",
        "\n",
        "def FitnessSPEA(Fit, lenA, UniSize):\n",
        "  vForca = np.zeros((UniSize,1), dtype=int)\n",
        "  vR = np.zeros((UniSize,1), dtype=int)\n",
        "  \n",
        "  vDist = np.zeros((UniSize,1))\n",
        "  vDensity = np.zeros((UniSize,1))\n",
        "  kth = np.round(np.sqrt(UniSize))\n",
        "\n",
        "  # Quantos domina\n",
        "  for i in range(UniSize): \n",
        "    ni = 0\n",
        "    for k in range(UniSize):\n",
        "      tesT = ((Fit[i,0]) < Fit[k,0]) and ((Fit[i,1]) < Fit[k,1])\n",
        "      if (tesT):  ni += 1                     \n",
        "    vForca[i] = ni\n",
        "\n",
        "  # Calculo de Força Bruta: R\n",
        "  # Somar a Força dos que dominam ele\n",
        "  for i in range(UniSize):\n",
        "    sumR = 0\n",
        "    for k in range(UniSize):\n",
        "      tesT = ((Fit[i,0]) > Fit[k,0]) and ((Fit[i,1]) > Fit[k,1])\n",
        "      if (tesT):  sumR += vForca[k]\n",
        "    vR[i] = sumR\n",
        "\n",
        "  # Objetivo: Minimizar vR\n",
        "\n",
        "  # Determinar a estimativa de densidade\n",
        "\n",
        "  for i in range(UniSize):\n",
        "    for k in range(UniSize):\n",
        "      vDist[k] = Fdist(Fit[i,:], Fit[k,:], fBounds[1], fBounds[0])\n",
        "    vDist.sort()\n",
        "    tetaK = vDist[int(kth)]\n",
        "    vDensity[i] = 1/(tetaK + 2)\n",
        "\n",
        "  # Cálculo da fit do método\n",
        "  # Se alterar lenA e voltar, quebra\n",
        "  Fit_SPEA = np.zeros((UniSize,1))\n",
        "\n",
        "  for i in range(UniSize):\n",
        "    Fit_SPEA[i] = vDensity[i] + vR[i] \n",
        "  return Fit_SPEA"
      ],
      "metadata": {
        "id": "Dfxnk_Pl2qD3"
      },
      "execution_count": 71,
      "outputs": []
    },
    {
      "cell_type": "code",
      "source": [
        "# Gen 0: Usa pop\n",
        "# Gen 1+: Usa Unisize\n",
        "def FitnessSPEAMax(Fit, lenA, UniSize):\n",
        "  vForca = np.zeros((UniSize,1), dtype=int)\n",
        "  vR = np.zeros((UniSize,1), dtype=int)\n",
        "  \n",
        "  vDist = np.zeros((UniSize,1))\n",
        "  vDensity = np.zeros((UniSize,1))\n",
        "  kth = np.round(np.sqrt(UniSize))\n",
        "\n",
        "  # Quantos domina\n",
        "  for i in range(UniSize): \n",
        "    ni = 0\n",
        "    for k in range(UniSize):\n",
        "      tesT = ((Fit[i,0]) > Fit[k,0]) and ((Fit[i,1]) > Fit[k,1])\n",
        "      if (tesT):  ni += 1                     \n",
        "    vForca[i] = ni\n",
        "\n",
        "  # Calculo de Força Bruta: R\n",
        "  # Somar a Força dos que dominam ele\n",
        "  for i in range(UniSize):\n",
        "    sumR = 0\n",
        "    for k in range(UniSize):\n",
        "      tesT = ((Fit[i,0]) < Fit[k,0]) and ((Fit[i,1]) < Fit[k,1])\n",
        "      if (tesT):  sumR += vForca[k]\n",
        "    vR[i] = sumR\n",
        "\n",
        "  # Objetivo: Minimizar vR\n",
        "\n",
        "  # Determinar a estimativa de densidade\n",
        "\n",
        "  for i in range(UniSize):\n",
        "    for k in range(UniSize):\n",
        "      vDist[k] = Fdist(Fit[i,:], Fit[k,:], fBounds[1], fBounds[0])\n",
        "    vDist.sort()\n",
        "    tetaK = vDist[int(kth)]\n",
        "    vDensity[i] = 1/(tetaK + 2)\n",
        "\n",
        "  # Cálculo da fit do método\n",
        "  Fit_SPEA = np.zeros((UniSize,1))\n",
        "\n",
        "  for i in range(UniSize):\n",
        "    Fit_SPEA[i] = vDensity[i] + vR[i] \n",
        "  return Fit_SPEA"
      ],
      "metadata": {
        "id": "UeRPOhPUm0EX"
      },
      "execution_count": 72,
      "outputs": []
    },
    {
      "cell_type": "code",
      "source": [
        "def SelecaoSPEA(vt_bin_s, Fit_s, Fit_SPEA_s,arqpop):\n",
        "  # Passo 1:Identificar elementos entre 0 e 1\n",
        "  # arqpop = 20\n",
        "  Arquivo = []\n",
        "  Arq_FitSPEA = []\n",
        "  ArquivoFit = []\n",
        "\n",
        "  TopRank = 0   \n",
        "  for i in Fit_SPEA_s:\n",
        "    if i <= 1:  \n",
        "      TopRank += 1\n",
        "    else:\n",
        "      break\n",
        "  \n",
        "  # Passo 2: Anexar elementos contabilizados em TopRank\n",
        "  # Se arquivo tem espaço, anexar mais um\n",
        "  # Se arquivo não tem mais espaço, anexar e remover um de acordo com distância aos pontos\n",
        "  # Se ao fim, ainda há espaço, Passo 3\n",
        "  \n",
        "  Dist_desempate = np.zeros((arqpop,1)) # Quando é calculado, tem 21 individuos\n",
        "  # desempate dentro do Arquivo\n",
        "  for i in range(TopRank):  # Do elemento 1 ao ultimo no topo dos ranks\n",
        "    Arquivo.append(vt_bin_s[i,:])\n",
        "    Arq_FitSPEA.append(Fit_SPEA_s[i])\n",
        "    ArquivoFit.append(Fit_s[i,:])\n",
        "    # Verificar se encheu\n",
        "    lenA = len(Arquivo)\n",
        "    # if(lenA > pop):         # Se encheu, e ainda tem indivíduos do topo:\n",
        "    if(lenA > arqpop):         # Se encheu, e ainda tem indivíduos do topo:\n",
        "      minDist = np.inf\n",
        "      # Calcula-se a distância em pares de todos os indivíduos e se busca a menor. \n",
        "      for k in range(0,lenA-1):  # Grupo tem (lenA) individuos = (pop + 1) \n",
        "        Dist_desempate[k] = Fdist(ArquivoFit[k], ArquivoFit[k+1], fBounds[1], fBounds[0])\n",
        "        if Dist_desempate[k] < minDist:\n",
        "          minDist = Dist_desempate[k]   # Atualiza menor distância verificada\n",
        "          ki = k  \n",
        "      # Remover o indice ki do arquivo\n",
        "      Arquivo.pop(ki)\n",
        "      Arq_FitSPEA.pop(ki)\n",
        "      ArquivoFit.pop(ki)\n",
        "  \n",
        "  # Etapa 3: Adicionar indivíduos restantes\n",
        "  # só deve ocorrer nas primeiras gerações\n",
        "  # if(lenA < pop):\n",
        "  if(lenA < arqpop):   \n",
        "    for i in range(TopRank,pop):\n",
        "      Arquivo.append(vt_bin_s[i,:])\n",
        "      Arq_FitSPEA.append(Fit_SPEA_s[i])\n",
        "      ArquivoFit.append(Fit_s[i,:])\n",
        "      # Verificar se encheu\n",
        "      lenA = len(Arquivo)\n",
        "      # if(lenA >= pop):      \n",
        "      if(lenA >= arqpop):\n",
        "        # print('Encerrado')\n",
        "        break\n",
        "  \n",
        "  return [Arquivo, Arq_FitSPEA, ArquivoFit]"
      ],
      "metadata": {
        "id": "z3LukHowFsbe"
      },
      "execution_count": 73,
      "outputs": []
    },
    {
      "cell_type": "code",
      "source": [
        "def Fdist(x,y, xmax, xmin):\n",
        "  d = 0\n",
        "  a = 0\n",
        "  for i in range(nx):\n",
        "    a += ( ( (x[i] - y[i])/(xmax[i] - xmin[i]) )**2)\n",
        "  d = np.sqrt(a)\n",
        "  return d"
      ],
      "metadata": {
        "id": "l-4GEYbw_M3L"
      },
      "execution_count": 74,
      "outputs": []
    },
    {
      "cell_type": "code",
      "source": [
        "def bin2real(b, xmin, xmax):\n",
        "  # Conversão de inteiro para binário\n",
        "  s = 0\n",
        "  n = len(b)        # [s1,l] => Pega a dimensão 2\n",
        "  for l in range(n):\n",
        "    s = s + b[l]*pow(2,l)\n",
        "  return xmin + (xmax - xmin)*s/(pow(2,n)-1)"
      ],
      "metadata": {
        "id": "N7Dp_Z6mQWKV"
      },
      "execution_count": 75,
      "outputs": []
    },
    {
      "cell_type": "code",
      "source": [
        "# Criar divisor de bits a serem usados!\n",
        "def xj_range(bits, nx):\n",
        "  limites_xj = np.zeros((2,nx), dtype=int)\n",
        "  cont = 0\n",
        "  ik = bits\n",
        "  while ik <= (bits*nx):\n",
        "    \n",
        "    if ((ik) % bits == 0):    # Se ik for divisível por 20\n",
        "      \n",
        "      limites_xj[1,cont] = ik-1  # Atribui ub: 20, 40, 60, 80 (-1)\n",
        "      cont = cont + 1            # incrementa\n",
        "      if (cont < nx):\n",
        "        limites_xj[0,cont] = ik # Atribui lb: 20, 40, 60 (-1)\n",
        "      \n",
        "    ik = ik + 1\n",
        "  return limites_xj"
      ],
      "metadata": {
        "id": "GETYVOM6QWKV"
      },
      "execution_count": 76,
      "outputs": []
    },
    {
      "cell_type": "code",
      "source": [
        "# Dividir X em nx parcelas de acordo com o limite em Xj_range\n",
        "# Supondo X = vt[i,:]\n",
        "\n",
        "def xj_divide(X, bits, nx):\n",
        "  limites = xj_range(bits,nx)\n",
        "\n",
        "  Xt = np.zeros((nx,bits), dtype=int)\n",
        "  i = 0\n",
        "  for i in range (nx):\n",
        "    Xt[i,:] = X[limites[0,i]:(limites[1,i]+1)]\n",
        "                                    # -> [0:19], python pega do 0 ao 18.\n",
        "                                    # O +1 resolve o problema\n",
        "  return Xt"
      ],
      "metadata": {
        "id": "TnJevyUGQWKW"
      },
      "execution_count": 77,
      "outputs": []
    },
    {
      "cell_type": "code",
      "source": [
        "def Bin_xyzw_Real(vetor_bin, vetor_real, pop, xmin, xmax):\n",
        "  for i in range(pop):\n",
        "    Xj = vetor_bin[i,:]              # Extrai um individuo da pop\n",
        "    Xj_r = xj_divide(Xj, bits, nx)  # Leva para dividir nas N componentes dela (x,y,z,w)\n",
        "                            # Passa cada componente para valor real\n",
        "    Xj_r = np.transpose(Xj_r)\n",
        "    k = 0\n",
        "    for k in range (nx):\n",
        "      vetor_real[i,k] = bin2real(Xj_r[:,k], xmin[k], xmax[k])"
      ],
      "metadata": {
        "id": "YsSHA0msQWKW"
      },
      "execution_count": 78,
      "outputs": []
    },
    {
      "cell_type": "code",
      "source": [
        "def criarpop(vetor, pop, cromo):\n",
        "  #i = 0\n",
        "  for i in range(pop):                 # Cria-se uma linha(indivíduo) por vez\n",
        "    n = (np.random.rand(1,cromo))      # Vetor randômico de números entre 0 e 1\n",
        "    nr = np.around(n, 0)               # Arrendondam-se entre 0 e 1\n",
        "    vetor[i,:] = nr[:]"
      ],
      "metadata": {
        "id": "R0TJTuJevlP2"
      },
      "execution_count": 79,
      "outputs": []
    },
    {
      "cell_type": "code",
      "source": [
        "def torneio(Fit_Especial,k):\n",
        "  # Especial: Escalonada, compartilhada\n",
        "  melhor_fitness = -1\n",
        "  vencedor = -1\n",
        "  for i in range(k):\n",
        "    competidor = U.randint(0,len(Fit_Especial)-1)\n",
        "    if Fit_Especial[competidor] > melhor_fitness:\n",
        "      melhor_fitness = Fit_Especial[competidor]\n",
        "      vencedor = competidor\n",
        "  return vencedor"
      ],
      "metadata": {
        "id": "bRSf-IgVQWKW"
      },
      "execution_count": 80,
      "outputs": []
    },
    {
      "cell_type": "code",
      "source": [
        "def torneioMin(Fit_Especial,k):\n",
        "  # Especial: Escalonada, compartilhada\n",
        "  melhor_fitness = np.inf\n",
        "  vencedor = -1\n",
        "  for i in range(k):\n",
        "    competidor = U.randint(0,len(Fit_Especial)-1)\n",
        "    if Fit_Especial[competidor] < melhor_fitness:\n",
        "      melhor_fitness = Fit_Especial[competidor]\n",
        "      vencedor = competidor\n",
        "  return vencedor"
      ],
      "metadata": {
        "id": "KPwV9giD7OQL"
      },
      "execution_count": 81,
      "outputs": []
    },
    {
      "cell_type": "code",
      "source": [
        "def selecao_maximizar(FitComp, pop):\n",
        "  i_selecionados = np.zeros((pop,1), dtype=int)\n",
        "  for k in range(pop):\n",
        "    i_selecionados[k] = torneio(FitComp, 3)\n",
        "  return i_selecionados"
      ],
      "metadata": {
        "id": "YYlUMnHVQWKX"
      },
      "execution_count": 82,
      "outputs": []
    },
    {
      "cell_type": "code",
      "source": [
        "def selecao_minimizar(FitComp, pop):\n",
        "  i_selecionados = np.zeros((pop,1), dtype=int)\n",
        "  for k in range(pop):\n",
        "    i_selecionados[k] = torneioMin(FitComp, 3)\n",
        "  return i_selecionados"
      ],
      "metadata": {
        "id": "fSAZh-RS7Y9z"
      },
      "execution_count": 83,
      "outputs": []
    },
    {
      "cell_type": "code",
      "source": [
        "def criaPares(pop, arqpop, indicesSelec):\n",
        "  vetor_pares = np.zeros((pop,2), dtype=int) # Indices dos pares \n",
        "  for p in range(pop):   # Preencher todos os filhos\n",
        "    for k in range(2):              # Escolher 2 dos selecionados de forma randomica\n",
        "      r = int(np.floor(arqpop*(U.random())))\n",
        "      vetor_pares[p,k] = indicesSelec[r]\n",
        "    if vetor_pares[p,k] == vetor_pares[p,k-1]:\n",
        "      r = int(np.floor(arqpop*(U.random())))\n",
        "      vetor_pares[p,k] = indicesSelec[r]      \n",
        "  return vetor_pares"
      ],
      "metadata": {
        "id": "MQ0FZNKqQWKX"
      },
      "execution_count": 84,
      "outputs": []
    },
    {
      "cell_type": "code",
      "source": [
        "def cruzamentoDoisPontos(P_1, P_2, Filho):\n",
        "  r = U.random()\n",
        "  if r <= Px:\n",
        "    rng2 = np.random.default_rng()\n",
        "    ponto1 = rng2.integers(cromo, size=1)\n",
        "    ponto2 = rng2.integers(cromo, size=1)\n",
        "    [maior,menor] = [np.max([ponto1,ponto2]),np.min([ponto1,ponto2])]\n",
        "    mask = np.zeros(cromo,dtype=int)\n",
        "    for j in range(menor,maior):\n",
        "      mask[j] = 1\n",
        "    # realiza o crossover\n",
        "    for jj in range(cromo):\n",
        "      if mask[jj] == 1:\n",
        "        Filho[jj] = P_1[jj]\n",
        "      else:\n",
        "        Filho[jj] = P_2[jj]\n",
        "  return Filho"
      ],
      "metadata": {
        "id": "zyRb8XjBEnA-"
      },
      "execution_count": 85,
      "outputs": []
    },
    {
      "cell_type": "code",
      "source": [
        "def cruzamento(vetor_bin_S, indice_pares, filhos, Px):\n",
        "  # 20 binarios geram 40 filhos\n",
        "  for i in range(pop):\n",
        "    r = U.random()  # Porcentagem de crossover\n",
        "    if (r <= Px):\n",
        "      P_1 = vetor_bin_S[indice_pares[i,0]]\n",
        "      P_2 = vetor_bin_S[indice_pares[i,1]]\n",
        "      filhos[i,:] = cruzamentoDoisPontos(P_1, P_2, filhos[i,:])\n",
        "    else:\n",
        "      filhos[i,:] = vetor_bin_S[indice_pares[i,0]]\n",
        "  # Se não tiver crossover, ele simplesmente deixa o filho como estava."
      ],
      "metadata": {
        "id": "RFL0o4mQQWKX"
      },
      "execution_count": 86,
      "outputs": []
    },
    {
      "cell_type": "code",
      "source": [
        "# Taxa de mutação: Pm = 0.02\n",
        "def mutacao(filho, cromo, Pm):\n",
        "  for i in range(cromo):\n",
        "    r = U.random()    # Porcentagem de crossover\n",
        "    if (r < Pm):     \n",
        "      filho[i] = int(not filho[i]) # Inversão com porta NOT, depois converte pra int\n",
        "  return filho"
      ],
      "metadata": {
        "id": "sdFmx9fLQWKX"
      },
      "execution_count": 87,
      "outputs": []
    },
    {
      "cell_type": "markdown",
      "source": [
        "# SPEA2 - MinEx em Loop"
      ],
      "metadata": {
        "id": "HGnXi9TR_e8L"
      }
    },
    {
      "cell_type": "markdown",
      "source": [
        "Geração 0: Fora do loop"
      ],
      "metadata": {
        "id": "rGFg2Kl3F5Cb"
      }
    },
    {
      "cell_type": "code",
      "source": [
        "pop = 40\n",
        "arqpop = 20\n",
        "MaxGen = 100\n",
        "bits = 30\n",
        "nx = 2\n",
        "M = 2    # Funções MO\n",
        "cromo = bits*nx\n",
        "Px = 0.90\n",
        "Pm = 0.02\n",
        "\n",
        "limXY =  [[0.1, 0],    # X, Y   # Min\n",
        "          [1  , 5]]             # Max\n",
        "xmin  = limXY[0]\n",
        "xmax  = limXY[1]\n",
        "\n",
        "fBounds = [[0.1,  0],    # X, Y   # Min\n",
        "           [1  , 60]]             # Max\n",
        "\n",
        "\n",
        "# Criação de vetores\n",
        "vt_bin = np.zeros((pop, cromo), dtype=int)\n",
        "vt_real = np.zeros((pop, nx), dtype=float)\n",
        "Fit = np.zeros((pop,M))\n",
        "#vForca = np.zeros((pop,1), dtype=int)\n",
        "\n",
        "Arquivo = []\n",
        "Arq_FitSPEA = []\n",
        "ArquivoFit = []\n",
        "\n",
        "vArq_FitSPEA = np.zeros((arqpop,1))\n",
        "vArquivo = np.zeros((arqpop,cromo),dtype=int)\n",
        "\n",
        "lenA = 0\n",
        "\n",
        "filhos = np.zeros((pop, cromo), dtype=int)"
      ],
      "metadata": {
        "id": "5kSXCEWlF3P_"
      },
      "execution_count": 88,
      "outputs": []
    },
    {
      "cell_type": "code",
      "source": [
        "# Inicializar e calcular as fitness multiobjetivo\n",
        "criarpop(vt_bin, pop, cromo)\n",
        "#print(vt_bin[0:3,:])\n",
        "\n",
        "# Conversão em Real e Cálculo de Fitness\n",
        "Bin_xyzw_Real(vt_bin, vt_real, pop, xmin, xmax)\n",
        "\n",
        "fitnessMOMin(vt_real, Fit, pop)\n",
        "\n",
        "UniSize = pop + lenA\n",
        "Fit_SPEA = FitnessSPEA(Fit, lenA, UniSize)\n",
        "\n",
        "Fit_SPEA_s = sortir(Fit_SPEA, Fit_SPEA, UniSize)\n",
        "vt_bin_s = sortir(vt_bin, Fit_SPEA, pop)\n",
        "Fit_s = sortir(Fit, Fit_SPEA, pop)"
      ],
      "metadata": {
        "id": "zZYM_bMiF3QA"
      },
      "execution_count": 89,
      "outputs": []
    },
    {
      "cell_type": "code",
      "source": [
        "[Arquivo, Arq_FitSPEA, ArquivoFit] = SelecaoSPEA(vt_bin_s, Fit_s, Fit_SPEA_s,arqpop)\n",
        "\n",
        "for i in range(arqpop):\n",
        "  vArq_FitSPEA[i,:] = Arq_FitSPEA[i]\n",
        "  vArquivo[i,:] = Arquivo[i]\n",
        "\n",
        "# Seleção direto do Arquivo\n",
        "i_selecionados = selecao_minimizar(vArq_FitSPEA,arqpop)  # Selecionar 20 deles\n",
        "\n",
        "# Cruzamento e Mutação\n",
        "paresRep = criaPares(pop, arqpop, i_selecionados)             # Precisa gerar 40\n",
        "cruzamento(vArquivo, paresRep, filhos, Px)      # Crossover\n",
        "for i in range(pop):                          \n",
        "  filhos[i,:] = mutacao(filhos[i,:],cromo,Pm)\n",
        "vt_bin = filhos\n",
        "lenA = len(vArquivo)"
      ],
      "metadata": {
        "id": "aq8Mk4_yF3QB"
      },
      "execution_count": 90,
      "outputs": []
    },
    {
      "cell_type": "code",
      "source": [
        "# Arquivo_real = np.zeros((arqpop, nx), dtype=float)\n",
        "\n",
        "# Bin_xyzw_Real(vArquivo, Arquivo_real, arqpop, xmin, xmax)\n",
        "# Fit_fim = np.zeros((arqpop,nx), dtype=float)\n",
        "# fitnessMOMin(Arquivo_real, Fit_fim, arqpop)\n",
        "# print(Fit_fim[0:4])\n",
        "\n",
        "# fig1, ax1 = plt.subplots()\n",
        "# ax1.scatter(Fit_fim[:,0], Fit_fim[:,1])\n",
        "# plt.title('Problema sei la - QT2')\n",
        "# plt.show()"
      ],
      "metadata": {
        "id": "sQwZHvMZY5wM"
      },
      "execution_count": 91,
      "outputs": []
    },
    {
      "cell_type": "markdown",
      "source": [
        "O Loop"
      ],
      "metadata": {
        "id": "J8YkHFUGGyhj"
      }
    },
    {
      "cell_type": "code",
      "source": [
        "gen = 0\n",
        "UniSize = pop + lenA\n",
        "vUnion = np.zeros((UniSize, cromo), dtype=int)\n",
        "vUnion_real = np.zeros((UniSize, nx), dtype=float)\n",
        "Fit_Union = np.zeros((UniSize,M))\n",
        "\n",
        "while gen < MaxGen:\n",
        "\n",
        "  # Reunir vt_bin e vArquivo\n",
        "  for i in range(UniSize):\n",
        "    if (i < arqpop):\n",
        "      vUnion[i,:] = vArquivo[i,:]\n",
        "    else:\n",
        "      vUnion[i,:] = vt_bin[i-arqpop,:]\n",
        "\n",
        "  Bin_xyzw_Real(vUnion, vUnion_real, UniSize, xmin, xmax)\n",
        "\n",
        "  fitnessMOMin(vUnion_real, Fit_Union, UniSize)\n",
        "  \n",
        "  # Recebe e calcula para Arquivo e vt_bin.\n",
        "  Fit_SPEA = FitnessSPEA(Fit_Union, lenA, UniSize)\n",
        "\n",
        "  # Isto implica que Fit_SPEA é originalmente de tamanho UniSize\n",
        "  Fit_SPEA_s = sortir(Fit_SPEA, Fit_SPEA, UniSize)\n",
        "  vUnion_s = sortir(vUnion, Fit_SPEA, UniSize)\n",
        "  Fit_Union_s = sortir(Fit_Union, Fit_SPEA, UniSize)\n",
        "\n",
        "  # Recebe 60, retorna 30 (novo Arquivo)\n",
        "  #print('Geracao numero' + str(gen))\n",
        "  [Arquivo, Arq_FitSPEA, ArquivoFit] = SelecaoSPEA(vUnion_s, Fit_Union_s, Fit_SPEA_s,arqpop)\n",
        "\n",
        "  for i in range(arqpop):\n",
        "    vArq_FitSPEA[i,:] = Arq_FitSPEA[i]\n",
        "    vArquivo[i,:] = Arquivo[i]\n",
        "\n",
        "  # Seleção direto do Arquivo\n",
        "  i_selecionados = selecao_minimizar(vArq_FitSPEA,arqpop)\n",
        "\n",
        "  # Cruzamento e Mutação\n",
        "  paresRep = criaPares(pop, arqpop, i_selecionados)\n",
        "  cruzamento(vArquivo, paresRep, filhos, Px)      # Crossover\n",
        "  for i in range(pop):                          \n",
        "    filhos[i,:] = mutacao(filhos[i,:],cromo,Pm)\n",
        "  \n",
        "  vt_bin = filhos\n",
        "  gen += 1"
      ],
      "metadata": {
        "id": "6nFSW9WeOqZg"
      },
      "execution_count": 92,
      "outputs": []
    },
    {
      "cell_type": "code",
      "source": [
        "Arquivo_real = np.zeros((arqpop, nx), dtype=float)\n",
        "\n",
        "Bin_xyzw_Real(vArquivo, Arquivo_real, arqpop, xmin, xmax)\n",
        "Fit_fim = np.zeros((arqpop,nx), dtype=float)\n",
        "fitnessMOMin(Arquivo_real, Fit_fim, arqpop)\n",
        "print(Fit_fim[0:4])\n",
        "\n",
        "fig1, ax1 = plt.subplots()\n",
        "ax1.scatter(Fit_fim[:,0], Fit_fim[:,1])\n",
        "plt.title('Min-Ex com SPEA2')\n",
        "plt.show()"
      ],
      "metadata": {
        "id": "IW6QncDyIQ2z",
        "colab": {
          "base_uri": "https://localhost:8080/",
          "height": 354
        },
        "outputId": "99abcbe6-8d54-4d18-d675-54f2081e1962"
      },
      "execution_count": 93,
      "outputs": [
        {
          "output_type": "stream",
          "name": "stdout",
          "text": [
            "[[0.94375935 1.06005808]\n",
            " [0.8756393  1.1445735 ]\n",
            " [0.81763551 1.22577057]\n",
            " [0.76841665 1.30686619]]\n"
          ]
        },
        {
          "output_type": "display_data",
          "data": {
            "text/plain": [
              "<Figure size 432x288 with 1 Axes>"
            ],
            "image/png": "[encoded data removed]"
          },
          "metadata": {
            "needs_background": "light"
          }
        }
      ]
    },
    {
      "cell_type": "markdown",
      "source": [
        "# SPEA2 - MaxEx em Loop"
      ],
      "metadata": {
        "id": "pmOcWNVnyED2"
      }
    },
    {
      "cell_type": "markdown",
      "source": [
        "Geração 0: Fora do loop"
      ],
      "metadata": {
        "id": "tCBTEtRLyED3"
      }
    },
    {
      "cell_type": "code",
      "source": [
        "pop = 40\n",
        "arqpop = 20\n",
        "MaxGen = 100\n",
        "bits = 30\n",
        "nx = 2\n",
        "M = 2    # Funções MO\n",
        "cromo = bits*nx\n",
        "Px = 0.90\n",
        "Pm = 0.02\n",
        "\n",
        "limXY =  [[0.1, 0],    # X, Y   # Min\n",
        "          [1  , 5]]             # Max\n",
        "xmin  = limXY[0]\n",
        "xmax  = limXY[1]\n",
        "\n",
        "fBounds = [[0.1,  0],    # X, Y   # Min\n",
        "           [1  , 60]]             # Max\n",
        "\n",
        "\n",
        "# Criação de vetores\n",
        "vt_bin = np.zeros((pop, cromo), dtype=int)\n",
        "vt_real = np.zeros((pop, nx), dtype=float)\n",
        "Fit = np.zeros((pop,M))\n",
        "#vForca = np.zeros((pop,1), dtype=int)\n",
        "\n",
        "Arquivo = []\n",
        "Arq_FitSPEA = []\n",
        "ArquivoFit = []\n",
        "\n",
        "vArq_FitSPEA = np.zeros((arqpop,1))\n",
        "vArquivo = np.zeros((arqpop,cromo),dtype=int)\n",
        "\n",
        "lenA = 0\n",
        "\n",
        "filhos = np.zeros((pop, cromo), dtype=int)"
      ],
      "metadata": {
        "id": "A-25ys6myED3"
      },
      "execution_count": 94,
      "outputs": []
    },
    {
      "cell_type": "code",
      "source": [
        "# Inicializar e calcular as fitness multiobjetivo\n",
        "criarpop(vt_bin, pop, cromo)\n",
        "#print(vt_bin[0:3,:])\n",
        "\n",
        "# Conversão em Real e Cálculo de Fitness\n",
        "Bin_xyzw_Real(vt_bin, vt_real, pop, xmin, xmax)\n",
        "\n",
        "fitnessMOMin(vt_real, Fit, pop)\n",
        "\n",
        "UniSize = pop + lenA\n",
        "Fit_SPEA = FitnessSPEA(Fit, lenA, UniSize)\n",
        "\n",
        "Fit_SPEA_s = sortir(Fit_SPEA, Fit_SPEA, UniSize)\n",
        "vt_bin_s = sortir(vt_bin, Fit_SPEA, pop)\n",
        "Fit_s = sortir(Fit, Fit_SPEA, pop)"
      ],
      "metadata": {
        "id": "frej4lKsyED3"
      },
      "execution_count": 95,
      "outputs": []
    },
    {
      "cell_type": "code",
      "source": [
        "[Arquivo, Arq_FitSPEA, ArquivoFit] = SelecaoSPEA(vt_bin_s, Fit_s, Fit_SPEA_s,arqpop)\n",
        "\n",
        "for i in range(arqpop):\n",
        "  vArq_FitSPEA[i,:] = Arq_FitSPEA[i]\n",
        "  vArquivo[i,:] = Arquivo[i]\n",
        "\n",
        "# Seleção direto do Arquivo\n",
        "i_selecionados = selecao_minimizar(vArq_FitSPEA,arqpop)  # Selecionar 20 deles\n",
        "\n",
        "# Cruzamento e Mutação\n",
        "paresRep = criaPares(pop, arqpop, i_selecionados)             # Precisa gerar 40\n",
        "cruzamento(vArquivo, paresRep, filhos, Px)      # Crossover\n",
        "for i in range(pop):                          \n",
        "  filhos[i,:] = mutacao(filhos[i,:],cromo,Pm)\n",
        "vt_bin = filhos\n",
        "lenA = len(vArquivo)"
      ],
      "metadata": {
        "id": "QXR_H0dkyED4"
      },
      "execution_count": 96,
      "outputs": []
    },
    {
      "cell_type": "code",
      "source": [
        "# Arquivo_real = np.zeros((arqpop, nx), dtype=float)\n",
        "\n",
        "# Bin_xyzw_Real(vArquivo, Arquivo_real, arqpop, xmin, xmax)\n",
        "# Fit_fim = np.zeros((arqpop,nx), dtype=float)\n",
        "# fitnessMOMin(Arquivo_real, Fit_fim, arqpop)\n",
        "# print(Fit_fim[0:4])\n",
        "\n",
        "# fig1, ax1 = plt.subplots()\n",
        "# ax1.scatter(Fit_fim[:,0], Fit_fim[:,1])\n",
        "# plt.title('Problema sei la - QT2')\n",
        "# plt.show()"
      ],
      "metadata": {
        "id": "jx5odt1EyED4"
      },
      "execution_count": 97,
      "outputs": []
    },
    {
      "cell_type": "markdown",
      "source": [
        "O Loop"
      ],
      "metadata": {
        "id": "tOrdsW4DyED4"
      }
    },
    {
      "cell_type": "code",
      "source": [
        "gen = 0\n",
        "UniSize = pop + lenA\n",
        "vUnion = np.zeros((UniSize, cromo), dtype=int)\n",
        "vUnion_real = np.zeros((UniSize, nx), dtype=float)\n",
        "Fit_Union = np.zeros((UniSize,M))\n",
        "\n",
        "while gen < MaxGen:\n",
        "\n",
        "  # Reunir vt_bin e vArquivo\n",
        "  for i in range(UniSize):\n",
        "    if (i < arqpop):\n",
        "      vUnion[i,:] = vArquivo[i,:]\n",
        "    else:\n",
        "      vUnion[i,:] = vt_bin[i-arqpop,:]\n",
        "\n",
        "  Bin_xyzw_Real(vUnion, vUnion_real, UniSize, xmin, xmax)\n",
        "\n",
        "  fitnessMOMin(vUnion_real, Fit_Union, UniSize)\n",
        "  \n",
        "  # Recebe e calcula para Arquivo e vt_bin.\n",
        "  Fit_SPEA = FitnessSPEA(Fit_Union, lenA, UniSize)\n",
        "\n",
        "  # Isto implica que Fit_SPEA é originalmente de tamanho UniSize\n",
        "  Fit_SPEA_s = sortir(Fit_SPEA, Fit_SPEA, UniSize)\n",
        "  vUnion_s = sortir(vUnion, Fit_SPEA, UniSize)\n",
        "  Fit_Union_s = sortir(Fit_Union, Fit_SPEA, UniSize)\n",
        "\n",
        "  # Recebe 60, retorna 30 (novo Arquivo)\n",
        "  #print('Geracao numero' + str(gen))\n",
        "  [Arquivo, Arq_FitSPEA, ArquivoFit] = SelecaoSPEA(vUnion_s, Fit_Union_s, Fit_SPEA_s,arqpop)\n",
        "\n",
        "  for i in range(arqpop):\n",
        "    vArq_FitSPEA[i,:] = Arq_FitSPEA[i]\n",
        "    vArquivo[i,:] = Arquivo[i]\n",
        "\n",
        "  # Seleção direto do Arquivo\n",
        "  i_selecionados = selecao_minimizar(vArq_FitSPEA,arqpop)\n",
        "\n",
        "  # Cruzamento e Mutação\n",
        "  paresRep = criaPares(pop, arqpop, i_selecionados)\n",
        "  cruzamento(vArquivo, paresRep, filhos, Px)      # Crossover\n",
        "  for i in range(pop):                          \n",
        "    filhos[i,:] = mutacao(filhos[i,:],cromo,Pm)\n",
        "  \n",
        "  vt_bin = filhos\n",
        "  gen += 1"
      ],
      "metadata": {
        "id": "N4hLGDcAyED4"
      },
      "execution_count": 98,
      "outputs": []
    },
    {
      "cell_type": "code",
      "source": [
        "Arquivo_real = np.zeros((arqpop, nx), dtype=float)\n",
        "\n",
        "Bin_xyzw_Real(vArquivo, Arquivo_real, arqpop, xmin, xmax)\n",
        "Fit_fim = np.zeros((arqpop,nx), dtype=float)\n",
        "fitnessMOMax(Arquivo_real, Fit_fim, arqpop)\n",
        "print(Fit_fim[0:4])\n",
        "\n",
        "fig1, ax1 = plt.subplots()\n",
        "ax1.scatter(Fit_fim[:,0], Fit_fim[:,1])\n",
        "plt.title('Max-Ex com SPEA2')\n",
        "plt.show()"
      ],
      "metadata": {
        "colab": {
          "base_uri": "https://localhost:8080/",
          "height": 0
        },
        "outputId": "f68bd425-dd30-4752-cdbd-9eae5712b002",
        "id": "ufT1F0kLyED5"
      },
      "execution_count": 99,
      "outputs": [
        {
          "output_type": "stream",
          "name": "stdout",
          "text": [
            "[[ 0.14218746 58.95423848]\n",
            " [ 0.19249777 58.87486807]\n",
            " [ 0.25467622 58.81699499]\n",
            " [ 0.315859   58.72273256]]\n"
          ]
        },
        {
          "output_type": "display_data",
          "data": {
            "text/plain": [
              "<Figure size 432x288 with 1 Axes>"
            ],
            "image/png": "[encoded data removed]"
          },
          "metadata": {
            "needs_background": "light"
          }
        }
      ]
    }
  ],
  "metadata": {
    "colab": {
      "name": "Enviado AAC7 - SPEA II.ipynb",
      "provenance": [],
      "collapsed_sections": [
        "HwuJ59TqVViI",
        "RXLhTJtIVfyQ",
        "t2ILOYOsVb4x",
        "oVsF4tyc3UTL"
      ],
      "authorship_tag": "ABX9TyOxAWE05YHD4C5bAwnsqZLV",
      "include_colab_link": true
    },
    "kernelspec": {
      "display_name": "Python 3",
      "name": "python3"
    },
    "language_info": {
      "name": "python"
    }
  },
  "nbformat": 4,
  "nbformat_minor": 0
}