{
  "cells": [
    {
      "cell_type": "markdown",
      "metadata": {
        "id": "view-in-github",
        "colab_type": "text"
      },
      "source": [
        "<a href=\"https://colab.research.google.com/github/CabeludoCego/SistEvolutivos/blob/main/Enviado_AAC5_NSGA_Refeito.ipynb\" target=\"_parent\"><img src=\"https://colab.research.google.com/assets/colab-badge.svg\" alt=\"Open In Colab\"/></a>"
      ]
    },
    {
      "cell_type": "code",
      "execution_count": null,
      "metadata": {
        "id": "VzoOvygZY_Gp"
      },
      "outputs": [],
      "source": [
        "import pandas as pd\n",
        "import matplotlib.pyplot as plt\n",
        "import numpy as np\n",
        "import random as U\n",
        "import math\n",
        "import time"
      ]
    },
    {
      "cell_type": "markdown",
      "source": [
        "# Funções: Min-Ex"
      ],
      "metadata": {
        "id": "FBfo-KYKPS8z"
      }
    },
    {
      "cell_type": "code",
      "source": [
        "def f1(x1):\n",
        "  return x1\n",
        "\n",
        "def f2(x1,x2):\n",
        "  return ((1+x2)/x1)\n",
        "\n",
        "def fitnessMO(vt_real, Fit, pop):\n",
        "  for i in range(pop):\n",
        "    Fit[i,0] = f1(vt_real[i][0])\n",
        "    Fit[i,1] = f2(vt_real[i][0], vt_real[i][1])\n",
        "\n",
        "def Dominando(Fit, vRank, pop):\n",
        "  for i in range(pop):\n",
        "    Fi1 = Fit[i,0]\n",
        "    Fi2 = Fit[i,1]\n",
        "    ni = 0\n",
        "    for k in range(pop):\n",
        "      if ((Fi1) > Fit[k,0]):    # Se é pior que um objetivo E\n",
        "        if ((Fi2) > Fit[k,1]):  # Se é pior que o segundo objetivo\n",
        "          ni += 1             # É dominada\n",
        "    vRank[i] = ni + 1         # Atribui um rank\n",
        "\n",
        "\n",
        "def Fdist(x,y, xmax, xmin):\n",
        "  d = 0\n",
        "  a = 0\n",
        "  for i in range(nx):\n",
        "    a += ( ( (x[i] - y[i])/(xmax[i] - xmin[i]) )**2)\n",
        "  d = np.sqrt(a)\n",
        "  return d\n",
        "\n",
        "def nicho(d, alfaShare, alfa):\n",
        "  if d <= alfaShare:\n",
        "    f = 1 - (d/alfaShare)**alfa\n",
        "  else:\n",
        "    f = 0\n",
        "  return f"
      ],
      "metadata": {
        "id": "ihYVerk3PSWO"
      },
      "execution_count": null,
      "outputs": []
    },
    {
      "cell_type": "code",
      "source": [
        "def sortir(vetor, vetorIndices, elementos):\n",
        "  indices = (np.argsort(vetorIndices, axis=0))\n",
        "  n = len(vetor[0])\n",
        "  vetorSortido = np.zeros((elementos,n))\n",
        "  i = 0\n",
        "  while i < elementos:\n",
        "    vetorSortido[i] = vetor[int(indices[i])]\n",
        "    i = i + 1\n",
        "  return vetorSortido\n",
        "\n",
        "def sortirMaior(vetor, vetorIndices, elementos):\n",
        "  indices = (np.argsort(vetorIndices, axis=0))\n",
        "  n = len(vetor[0])\n",
        "  vetorSortido = np.zeros((elementos,n))\n",
        "  i = 0\n",
        "  while i < elementos:\n",
        "    vetorSortido[i] = vetor[int(indices[i])]\n",
        "    i = i + 1\n",
        "  return vetorSortido[::-1]"
      ],
      "metadata": {
        "id": "FU3ZNxsTffqX"
      },
      "execution_count": null,
      "outputs": []
    },
    {
      "cell_type": "code",
      "source": [
        "# Etapa 3: Obter número total de ranks\n",
        "def rankMembers(vRank_s):\n",
        "  r_count = []    # Se não existe no vetor, anexa a ele\n",
        "  for i in vRank_s:\n",
        "    if (i not in r_count): r_count.append(i)  \n",
        "\n",
        "  numRanks = len(r_count)\n",
        "\n",
        "  memberCount = np.zeros((numRanks,2), dtype=int)\n",
        "\n",
        "  Elem_contados = []\n",
        "  n = 0\n",
        "  for i in vRank_s:\n",
        "    if i not in Elem_contados:\n",
        "      Elem_contados.append(i)  # Anexado à lista de ranks únicos\n",
        "      memberCount[n,0] = i\n",
        "      memberCount[n,1] = list(vRank_s).count(i)\n",
        "      n += 1\n",
        "\n",
        "  return memberCount"
      ],
      "metadata": {
        "id": "Eub017fqxhGp"
      },
      "execution_count": null,
      "outputs": []
    },
    {
      "cell_type": "code",
      "source": [
        "def Fitness_NSGA(vt_real_s, vRank_s, memberCount, limXY ,pop):\n",
        "  dmatrix = np.zeros((pop,pop), dtype=float)\n",
        "  nichomat = np.ones((pop,pop), dtype=float)\n",
        "  nichoC = np.ones((pop,1), dtype=float)\n",
        "\n",
        "  FitComp = pop*np.ones((pop,1))\n",
        "  thisRank_Fit = F_min - epsilon\n",
        "\n",
        "  for r in (memberCount[:,0]):\n",
        "    # r = rankAtual\n",
        "    for i in range(pop):          # Contador de posição\n",
        "      if (vRank_s[i] == r):       # Confere se é o mesmo rank\n",
        "        for k in range(pop):      # Coleta outro elemento\n",
        "          if (i != k and (vRank_s[i] == vRank_s[k])): # Impede 1 com 1 e verifica outros do rank\n",
        "            d = 0\n",
        "            X1 = [vt_real_s[i,0],vt_real_s[i,1]]\n",
        "            X2 = [vt_real_s[k,0],vt_real_s[k,1]] \n",
        "            d = Fdist(X1, X2, limXY[1], limXY[0])\n",
        "            dmatrix[i,k] = d\n",
        "            nichomat[i,k] = nicho(d,alfaShare,alfa)\n",
        "            nichoC[i] += nichomat[i,k]  \n",
        "          # Calcular a Fitness compartilhada\n",
        "        FitComp[i] = thisRank_Fit/nichoC[i]\n",
        "        #print(FitComp[i])\n",
        "      # Antes de incrementar para o próximo rank:\n",
        "    Fmin = np.min(FitComp)\n",
        "    thisRank_Fit = Fmin - epsilon\n",
        "    #print(thisRank_Fit)\n",
        "\n",
        "  return FitComp"
      ],
      "metadata": {
        "id": "z1f1XCVe7UlK"
      },
      "execution_count": null,
      "outputs": []
    },
    {
      "cell_type": "code",
      "source": [
        "def bin2real(b, xmin, xmax):\n",
        "  # Conversão de inteiro para binário\n",
        "  s = 0\n",
        "  n = len(b)        # [s1,l] => Pega a dimensão 2\n",
        "  for l in range(n):\n",
        "    s = s + b[l]*pow(2,l)\n",
        "  return xmin + (xmax - xmin)*s/(pow(2,n)-1)"
      ],
      "metadata": {
        "id": "T7oR8OItPOmq"
      },
      "execution_count": null,
      "outputs": []
    },
    {
      "cell_type": "code",
      "source": [
        "# Criar divisor de bits a serem usados!\n",
        "def xj_range(bits, nx):\n",
        "  limites_xj = np.zeros((2,nx), dtype=int)\n",
        "  cont = 0\n",
        "  ik = bits\n",
        "  while ik <= (bits*nx):\n",
        "    \n",
        "    if ((ik) % bits == 0):    # Se ik for divisível por 20\n",
        "      \n",
        "      limites_xj[1,cont] = ik-1  # Atribui ub: 20, 40, 60, 80 (-1)\n",
        "      cont = cont + 1            # incrementa\n",
        "      if (cont < nx):\n",
        "        limites_xj[0,cont] = ik # Atribui lb: 20, 40, 60 (-1)\n",
        "      \n",
        "    ik = ik + 1\n",
        "  return limites_xj"
      ],
      "metadata": {
        "id": "jfzXTx1ZPOmq"
      },
      "execution_count": null,
      "outputs": []
    },
    {
      "cell_type": "code",
      "source": [
        "xj_range(20, 4)"
      ],
      "metadata": {
        "colab": {
          "base_uri": "https://localhost:8080/"
        },
        "outputId": "6220119b-6ba3-4b75-996e-9d1dd13e3aca",
        "id": "D99iIrW3POmr"
      },
      "execution_count": null,
      "outputs": [
        {
          "output_type": "execute_result",
          "data": {
            "text/plain": [
              "array([[ 0, 20, 40, 60],\n",
              "       [19, 39, 59, 79]])"
            ]
          },
          "metadata": {},
          "execution_count": 8
        }
      ]
    },
    {
      "cell_type": "code",
      "source": [
        "# Dividir X em nx parcelas de acordo com o limite em Xj_range\n",
        "# Supondo X = vt[i,:]\n",
        "\n",
        "def xj_divide(X, bits, nx):\n",
        "  limites = xj_range(bits,nx)\n",
        "\n",
        "  Xt = np.zeros((nx,bits), dtype=int)\n",
        "  i = 0\n",
        "  for i in range (nx):\n",
        "    Xt[i,:] = X[limites[0,i]:(limites[1,i]+1)]\n",
        "                                    # -> [0:19], python pega do 0 ao 18.\n",
        "                                    # O +1 resolve o problema\n",
        "  return Xt"
      ],
      "metadata": {
        "id": "MG22BQo1POmr"
      },
      "execution_count": null,
      "outputs": []
    },
    {
      "cell_type": "code",
      "source": [
        "def criarpop(vetor, pop, cromo):\n",
        "  i = 0\n",
        "  for i in range(pop):                 # Cria-se uma linha(indivíduo) por vez\n",
        "    n = (np.random.rand(1,cromo))      # Vetor randômico de números entre 0 e 1\n",
        "    nr = np.around(n, 0)               # Arrendondam-se entre 0 e 1\n",
        "    vetor[i,:] = nr[:]  "
      ],
      "metadata": {
        "id": "E3USKkt1POms"
      },
      "execution_count": null,
      "outputs": []
    },
    {
      "cell_type": "code",
      "source": [
        "def Bin_xyzw_Real(vetor_bin, vetor_real, pop, xmin, xmax):\n",
        "  for i in range(pop):\n",
        "    Xj = vetor_bin[i,:]              # Extrai um individuo da pop\n",
        "    Xj_r = xj_divide(Xj, bits, nx)  # Leva para dividir nas N componentes dela (x,y,z,w)\n",
        "                            # Passa cada componente para valor real\n",
        "    Xj_r = np.transpose(Xj_r)\n",
        "    k = 0\n",
        "    for k in range (nx):\n",
        "      vetor_real[i,k] = bin2real(Xj_r[:,k], xmin[k], xmax[k])"
      ],
      "metadata": {
        "id": "GD7N7s_lPOms"
      },
      "execution_count": null,
      "outputs": []
    },
    {
      "cell_type": "code",
      "source": [
        "def torneio(Fit_Especial,k):\n",
        "  # Especial: Escalonada, compartilhada\n",
        "  melhor_fitness = -1\n",
        "  vencedor = -1\n",
        "  for i in range(k):\n",
        "    competidor = U.randint(0,len(Fit_Especial)-1)\n",
        "    if Fit_Especial[competidor] > melhor_fitness:\n",
        "      melhor_fitness = Fit_Especial[competidor]\n",
        "      vencedor = competidor\n",
        "  return vencedor"
      ],
      "metadata": {
        "id": "yBuUbeMl_ygB"
      },
      "execution_count": null,
      "outputs": []
    },
    {
      "cell_type": "code",
      "source": [
        "# Deprecado. Esconde os vetor_sortido do código.\n",
        "\n",
        "def NSGA(modo):\n",
        "  print('Problema: ' + modo)\n",
        "  Dominando(Fit, vRank, pop)\n",
        " \n",
        "  vRank_s = sortir(vRank, vRank, pop)\n",
        "  vt_real_s = sortir(vt_real, vRank, pop)\n",
        "  vt_bin_s = sortir(vt_bin, vRank, pop)\n",
        "  Fit_s = sortir(Fit, vRank, pop)\n",
        "\n",
        "  # Etapa 1: Número de ranks e membros por rank\n",
        "  memberCount = rankMembers(vRank_s)\n",
        "\n",
        "  FitComp = Fitness_NSGA(vt_real_s, vRank_s, memberCount, limXY , pop)\n",
        "  return [FitComp, memberCount]"
      ],
      "metadata": {
        "id": "ZQStiUhfACZb"
      },
      "execution_count": null,
      "outputs": []
    },
    {
      "cell_type": "code",
      "source": [
        "def selecao_maximizar(FitComp, pop):\n",
        "  i_selecionados = np.zeros((pop,1), dtype=int)\n",
        "  for k in range(pop):\n",
        "    i_selecionados[k] = torneio(FitComp, 3)\n",
        "  return i_selecionados"
      ],
      "metadata": {
        "id": "fonsmERvACnJ"
      },
      "execution_count": null,
      "outputs": []
    },
    {
      "cell_type": "code",
      "source": [
        "def criaPares(pop, indicesSelec):\n",
        "  vetor_pares = np.zeros((pop,2), dtype=int) # Indices dos pares \n",
        "  for p in range(pop):   # Preencher todos os filhos\n",
        "    for k in range(2):              # Escolher 2 dos selecionados de forma randomica\n",
        "      r = int(np.floor(pop*(U.random())))\n",
        "      vetor_pares[p,k] = indicesSelec[r]\n",
        "  return vetor_pares"
      ],
      "metadata": {
        "id": "Cy9L38zyACnJ"
      },
      "execution_count": null,
      "outputs": []
    },
    {
      "cell_type": "code",
      "source": [
        "def cruzamentoUmPonto(P_1, P_2, Filho):  # Crossover de 1 ponto\n",
        "  # Gerar máscara\n",
        "  m = int(np.floor(cromo*U.random()))   # Gera num entre 0 e cromo\n",
        "  Filho[0:m] = P_1[0:m]\n",
        "  Filho[m:cromo] = P_2[m:cromo]\n",
        "\n",
        "  return Filho"
      ],
      "metadata": {
        "id": "GBt_7JyzACnJ"
      },
      "execution_count": null,
      "outputs": []
    },
    {
      "cell_type": "code",
      "source": [
        "def cruzamento(vetor_bin_S, indice_pares, filhos, Px):\n",
        "  for i in range(pop):\n",
        "    r = U.random()  # Porcentagem de crossover\n",
        "    if (r <= Px):\n",
        "      P_1 = vetor_bin_S[indice_pares[i,0]]\n",
        "      P_2 = vetor_bin_S[indice_pares[i,1]]\n",
        "      filhos[i,:] = cruzamentoUmPonto(P_1, P_2, filhos[i,:])\n",
        "    else:\n",
        "      filhos[i,:] = vetor_bin_S[indice_pares[i,0]]\n",
        "  # Se não tiver crossover, ele simplesmente deixa o filho como estava."
      ],
      "metadata": {
        "id": "OPE2ct5JACnK"
      },
      "execution_count": null,
      "outputs": []
    },
    {
      "cell_type": "code",
      "source": [
        "# Taxa de mutação: Pm = 0.02\n",
        "def mutacao(filho, cromo, Pm):\n",
        "  for i in range(cromo):\n",
        "    r = U.random()    # Porcentagem de crossover\n",
        "    if (r < Pm):     \n",
        "      filho[i] = int(not filho[i]) # Inversão com porta NOT, depois converte pra int\n",
        "  return filho"
      ],
      "metadata": {
        "id": "1ZMuZCrDACnK"
      },
      "execution_count": null,
      "outputs": []
    },
    {
      "cell_type": "markdown",
      "source": [
        "# Loop - NSGA binario p/ Min-Ex"
      ],
      "metadata": {
        "id": "8-WTAWEaAfKa"
      }
    },
    {
      "cell_type": "code",
      "source": [
        "# Parâmetros AG bin\n",
        "pop = 60\n",
        "MaxGen = 300\n",
        "filhospop = int(pop*0.8)\n",
        "doupop = int(pop*2)\n",
        "bits = 40\n",
        "nx = 2\n",
        "cromo = bits*nx\n",
        "Px = 0.95\n",
        "Pm = 0.02\n",
        "\n",
        "limXY =  [[0.1, 0],    # X, Y   # Min\n",
        "          [1  , 5]]             # Max\n",
        "xmin = limXY[0]\n",
        "xmax = limXY[1]\n",
        "\n",
        "# Criação de vetores\n",
        "vt_bin = np.zeros((pop, cromo), dtype=int)\n",
        "vt_real = np.zeros((pop, nx), dtype=float)\n",
        "Fit = np.zeros((pop,2))\n",
        "vRank = np.zeros((pop,1), dtype=int)\n",
        "\n",
        "filhos = np.zeros((pop, cromo), dtype=int)\n",
        "fi_real = np.zeros((pop, nx), dtype=float)\n",
        "fi_Fit = np.zeros((pop,2))\n",
        "fi_Rank = np.zeros((pop,1), dtype=int)\n",
        "\n",
        "\n",
        "dmatrix = np.zeros((pop,pop), dtype=float)\n",
        "nichomat = np.ones((pop,pop), dtype=float)\n",
        "nichoC = np.ones((pop,1), dtype=float)"
      ],
      "metadata": {
        "id": "R6ahnYoPAqBx"
      },
      "execution_count": null,
      "outputs": []
    },
    {
      "cell_type": "code",
      "source": [
        "# Parâmetros NSGA\n",
        "alfa = 2\n",
        "alfaShare = 0.12\n",
        "epsilon = 0.1\n",
        "F_min = pop + epsilon\n",
        "\n",
        "# Inicialização\n",
        "criarpop(vt_bin, pop, cromo)\n",
        "print(vt_bin[0:3,:])\n",
        "\n",
        "\n",
        "# Conversão em Real e Cálculo de Fitness\n",
        "Bin_xyzw_Real(vt_bin, vt_real, pop, xmin, xmax)\n",
        "\n",
        "# Calculo da fit\n",
        "\n",
        "fitnessMO(vt_real, Fit, pop)\n",
        "\n",
        "print(Fit[0:3,:])"
      ],
      "metadata": {
        "colab": {
          "base_uri": "https://localhost:8080/"
        },
        "outputId": "39cf9fbb-295c-4380-cf07-e2e411a98147",
        "id": "dMyGRTL7AqBy"
      },
      "execution_count": null,
      "outputs": [
        {
          "output_type": "stream",
          "name": "stdout",
          "text": [
            "[[0 0 0 1 0 0 0 0 0 0 0 1 1 0 0 0 1 1 0 0 0 1 0 1 1 1 0 1 0 1 0 0 1 0 0 1\n",
            "  0 1 0 1 0 1 0 0 0 0 0 0 0 1 1 1 1 0 1 0 1 1 0 0 1 0 0 0 1 1 0 1 0 0 1 0\n",
            "  1 0 0 0 0 0 0 1]\n",
            " [0 0 0 1 1 1 0 1 1 0 1 1 0 0 1 1 0 1 1 1 1 1 0 1 0 0 1 0 0 1 0 1 1 1 0 0\n",
            "  1 1 1 0 0 1 0 0 1 0 0 0 0 1 1 0 0 0 0 1 1 1 1 1 1 0 0 0 1 1 0 0 0 1 1 0\n",
            "  0 1 1 0 0 1 0 1]\n",
            " [0 0 1 0 1 0 0 1 1 0 1 1 0 1 1 0 0 0 1 1 0 0 0 1 1 0 0 0 1 1 1 0 1 1 1 0\n",
            "  1 1 1 0 1 1 1 0 1 0 1 1 0 1 0 1 1 1 0 0 1 0 0 0 1 1 1 1 1 1 1 1 1 1 1 0\n",
            "  1 1 1 1 1 0 1 1]]\n",
            "[[ 0.69473989  5.07421428]\n",
            " [ 0.50655931  8.38944212]\n",
            " [ 0.51991873 10.31936281]]\n"
          ]
        }
      ]
    },
    {
      "cell_type": "code",
      "source": [
        "#MaxGen = 300\n",
        "# Temos vt_bin inicializado\n",
        "for i in range(MaxGen):\n",
        "  \n",
        "  ### Fitness dos valores Reais\n",
        "  Bin_xyzw_Real(vt_bin, vt_real, pop, xmin, xmax)\n",
        "  fitnessMO(vt_real, Fit, pop)\n",
        "  Dominando(Fit, vRank, pop)\n",
        "\n",
        "  vRank_s = sortir(vRank, vRank, pop)\n",
        "  vt_real_s = sortir(vt_real, vRank, pop)\n",
        "  vt_bin_s = sortir(vt_bin, vRank, pop)\n",
        "  Fit_s = sortir(Fit, vRank, pop)\n",
        "\n",
        "  vt_bin_s = vt_bin_s.astype(int)\n",
        "  vRank_s = vRank_s.astype(int)\n",
        "\n",
        "  # Número de ranks e membros por rank e Fit compartilhada\n",
        "  memberCount = rankMembers(vRank_s)\n",
        "  FitComp = Fitness_NSGA(vt_real_s, vRank_s, memberCount, limXY , pop)\n",
        "\n",
        "  ### Algoritmo Genético binário\n",
        "  iSelecionados = selecao_maximizar(FitComp, pop) # Seleção\n",
        "  paresRep = criaPares(pop, iSelecionados)\n",
        "  cruzamento(vt_bin_s, paresRep, filhos, Px)      # Crossover\n",
        "  for i in range(pop):                          \n",
        "    filhos[i,:] = mutacao(filhos[i,:],cromo,Pm)   # Mutação \n",
        "  \n",
        "  ### Calcular Fit dos filhos\n",
        "  Bin_xyzw_Real(filhos, fi_real, pop, xmin, xmax)\n",
        "  fitnessMO(fi_real, fi_Fit, pop)\n",
        "\n",
        "  Dominando(fi_Fit, fi_Rank, pop)\n",
        "\n",
        "  fi_Rank_s = sortir(fi_Rank, fi_Rank, pop)\n",
        "  fi_real_s = sortir(fi_real, fi_Rank, pop)\n",
        "  filhos_s = sortir(filhos, fi_Rank, pop)\n",
        "  fi_Fit_s = sortir(fi_Fit, fi_Rank, pop)\n",
        "\n",
        "  filhos_s = filhos_s.astype(int)\n",
        "  fi_Rank_s = fi_Rank_s.astype(int)\n",
        "\n",
        "  # Número de ranks e membros por rank, fitness compartilhada\n",
        "  filhosCount = rankMembers(fi_Rank_s)\n",
        "  fi_FitComp = Fitness_NSGA(fi_real_s, fi_Rank_s, filhosCount, limXY , pop)\n",
        "\n",
        "  ### Atualizar população\n",
        "\n",
        "  novagen = np.zeros((pop, cromo), dtype=int)\n",
        "\n",
        "  FitComp_filhos = np.copy(fi_FitComp)\n",
        "  filhosSortidos = np.copy(filhos_s)\n",
        "  FitComp_pop = np.copy(FitComp)\n",
        "  popSortidos = np.copy(vt_bin_s)\n",
        "\n",
        "  # 20% dos pais\n",
        "  # 80% dos filhos\n",
        "  for i in range(pop):\n",
        "    if i < (filhospop): \n",
        "      ik = torneio(FitComp_filhos, 3)\n",
        "      novagen[i,:] = filhosSortidos[ik,:]\n",
        "      FitComp_filhos = np.delete(FitComp_filhos,ik, axis=0)\n",
        "      filhosSortidos = np.delete(filhosSortidos,ik, axis=0)\n",
        "    if i >= (filhospop):\n",
        "      ik = torneio(FitComp_pop, 4)\n",
        "      novagen[i,:] = popSortidos[ik,:]\n",
        "      FitComp_pop = np.delete(FitComp_pop,ik, axis=0)\n",
        "      popSortidos = np.delete(popSortidos,ik, axis=0)\n",
        "\n",
        "  # print(novagen[0:4])\n",
        "  # print(novagen[pop-4:pop])\n",
        "\n",
        "  # Atribui novo valor e reinicia\n",
        "  vt_bin = novagen\n"
      ],
      "metadata": {
        "id": "0kUJP93yCmBz"
      },
      "execution_count": null,
      "outputs": []
    },
    {
      "cell_type": "code",
      "source": [
        " ### Cálculo da fit básica da nova geração\n",
        "novagenReal = np.zeros((pop,nx))\n",
        "Bin_xyzw_Real(novagen, novagenReal, pop, xmin, xmax)\n",
        "Fit_fim = np.zeros((pop,nx), dtype=float)\n",
        "fitnessMO(novagenReal, Fit_fim, pop)\n",
        "print(Fit_fim[0:4])\n",
        "\n",
        "fig1, ax1 = plt.subplots()\n",
        "ax1.scatter(Fit_fim[:,0], Fit_fim[:,1])\n",
        "plt.title('Problema Min-Ex NSGA')\n",
        "plt.show()"
      ],
      "metadata": {
        "colab": {
          "base_uri": "https://localhost:8080/"
        },
        "id": "yPrKTrlJECCK",
        "outputId": "52f556a0-232b-4c2f-9725-483331b96c76"
      },
      "execution_count": null,
      "outputs": [
        {
          "output_type": "stream",
          "name": "stdout",
          "text": [
            "[[0.98958396 1.0106844 ]\n",
            " [0.85074424 1.17544271]\n",
            " [0.69156583 1.44621579]\n",
            " [0.61078365 1.63731068]]\n"
          ]
        },
        {
          "output_type": "display_data",
          "data": {
            "text/plain": [
              "<Figure size 432x288 with 1 Axes>"
            ],
            "image/png": "[encoded data removed]"
          },
          "metadata": {
            "needs_background": "light"
          }
        }
      ]
    },
    {
      "cell_type": "code",
      "source": [
        "\n",
        "\n",
        "\n"
      ],
      "metadata": {
        "id": "aSnNTHdJGYyj"
      },
      "execution_count": null,
      "outputs": []
    },
    {
      "cell_type": "markdown",
      "source": [
        "# Funções: Max-Ex"
      ],
      "metadata": {
        "id": "dclCL1O1Gec9"
      }
    },
    {
      "cell_type": "code",
      "source": [
        "def f1(x1):\n",
        "  return (1.1 - x1)\n",
        "\n",
        "def f2(x1,x2):\n",
        "  return (60 - ((1+x2)/x1))\n",
        "\n",
        "def fitnessMO(vt_real, Fit, pop):\n",
        "  for i in range(pop):\n",
        "    Fit[i,0] = f1(vt_real[i][0])\n",
        "    Fit[i,1] = f2(vt_real[i][0], vt_real[i][1])\n",
        "\n",
        "def Dominando(Fit, vRank, pop):\n",
        "  for i in range(pop):\n",
        "    Fi1 = Fit[i,0]\n",
        "    Fi2 = Fit[i,1]\n",
        "    ni = 0\n",
        "    for k in range(pop):\n",
        "      if ((Fi1) < Fit[k,0]):    # Se é pior que um objetivo E\n",
        "        if ((Fi2) < Fit[k,1]):  # Se é pior que o segundo objetivo\n",
        "          ni += 1             # É dominada\n",
        "    vRank[i] = ni + 1         # Atribui um rank\n",
        "\n",
        "\n",
        "def Fdist(x,y, xmax, xmin):\n",
        "  d = 0\n",
        "  a = 0\n",
        "  for i in range(nx):\n",
        "    a += ( ( (x[i] - y[i])/(xmax[i] - xmin[i]) )**2)\n",
        "  d = np.sqrt(a)\n",
        "  return d\n",
        "\n",
        "def nicho(d, alfaShare, alfa):\n",
        "  if d <= alfaShare:\n",
        "    f = 1 - (d/alfaShare)**alfa\n",
        "  else:\n",
        "    f = 0\n",
        "  return f\n",
        "\n",
        "# def sortir(vetor, vetorIndices, vetorSortido, elementos):\n",
        "#   indices = (np.argsort(vetorIndices, axis=0))\n",
        "#   i = 0\n",
        "#   while i < elementos:\n",
        "#     vetorSortido[i] = vetor[int(indices[i])]\n",
        "#     i = i + 1\n",
        "\n",
        "# def sortirMaior(vetor, vetorIndices, vetorSortido, elementos):\n",
        "#   indices = (np.argsort(vetorIndices, axis=0))\n",
        "#   i = 0\n",
        "#   while i < elementos:\n",
        "#     vetorSortido[i] = vetor[int(indices[i])]\n",
        "#     i = i + 1\n",
        "#   vetorSortido = vetorSortido[::-1]"
      ],
      "metadata": {
        "id": "ybpUKAm_Gec-"
      },
      "execution_count": null,
      "outputs": []
    },
    {
      "cell_type": "code",
      "source": [
        "def sortir(vetor, vetorIndices, elementos):\n",
        "  indices = (np.argsort(vetorIndices, axis=0))\n",
        "  n = len(vetor[0])\n",
        "  vetorSortido = np.zeros((elementos,n))\n",
        "  i = 0\n",
        "  while i < elementos:\n",
        "    vetorSortido[i] = vetor[int(indices[i])]\n",
        "    i = i + 1\n",
        "  return vetorSortido\n",
        "\n",
        "def sortirMaior(vetor, vetorIndices, elementos):\n",
        "  indices = (np.argsort(vetorIndices, axis=0))\n",
        "  n = len(vetor[0])\n",
        "  vetorSortido = np.zeros((elementos,n))\n",
        "  i = 0\n",
        "  while i < elementos:\n",
        "    vetorSortido[i] = vetor[int(indices[i])]\n",
        "    i = i + 1\n",
        "  return vetorSortido[::-1]"
      ],
      "metadata": {
        "id": "F65wQI_fGec-"
      },
      "execution_count": null,
      "outputs": []
    },
    {
      "cell_type": "code",
      "source": [
        "# Etapa 3: Obter número total de ranks\n",
        "def rankMembers(vRank_s):\n",
        "  r_count = []    # Se não existe no vetor, anexa a ele\n",
        "  for i in vRank_s:\n",
        "    if (i not in r_count): r_count.append(i)  \n",
        "\n",
        "  numRanks = len(r_count)\n",
        "\n",
        "  memberCount = np.zeros((numRanks,2), dtype=int)\n",
        "\n",
        "  Elem_contados = []\n",
        "  n = 0\n",
        "  for i in vRank_s:\n",
        "    if i not in Elem_contados:\n",
        "      Elem_contados.append(i)  # Anexado à lista de ranks únicos\n",
        "      memberCount[n,0] = i\n",
        "      memberCount[n,1] = list(vRank_s).count(i)\n",
        "      n += 1\n",
        "\n",
        "  return memberCount"
      ],
      "metadata": {
        "id": "yAHnh-rEGec-"
      },
      "execution_count": null,
      "outputs": []
    },
    {
      "cell_type": "code",
      "source": [
        "def Fitness_NSGA(vt_real_s, vRank_s, memberCount, limXY ,pop):\n",
        "  dmatrix = np.zeros((pop,pop), dtype=float)\n",
        "  nichomat = np.ones((pop,pop), dtype=float)\n",
        "  nichoC = np.ones((pop,1), dtype=float)\n",
        "\n",
        "  FitComp = pop*np.ones((pop,1))\n",
        "  thisRank_Fit = F_min - epsilon\n",
        "\n",
        "  for r in (memberCount[:,0]):\n",
        "    # r = rankAtual\n",
        "    for i in range(pop):          # Contador de posição\n",
        "      if (vRank_s[i] == r):       # Confere se é o mesmo rank\n",
        "        for k in range(pop):      # Coleta outro elemento\n",
        "          if (i != k and (vRank_s[i] == vRank_s[k])): # Impede 1 com 1 e verifica outros do rank\n",
        "            d = 0\n",
        "            X1 = [vt_real_s[i,0],vt_real_s[i,1]]\n",
        "            X2 = [vt_real_s[k,0],vt_real_s[k,1]] \n",
        "            d = Fdist(X1, X2, limXY[1], limXY[0])\n",
        "            dmatrix[i,k] = d\n",
        "            nichomat[i,k] = nicho(d,alfaShare,alfa)\n",
        "            nichoC[i] += nichomat[i,k]  \n",
        "          # Calcular a Fitness compartilhada\n",
        "        FitComp[i] = thisRank_Fit/nichoC[i]\n",
        "        #print(FitComp[i])\n",
        "      # Antes de incrementar para o próximo rank:\n",
        "    Fmin = np.min(FitComp)\n",
        "    thisRank_Fit = Fmin - epsilon\n",
        "    #print(thisRank_Fit)\n",
        "\n",
        "  return FitComp"
      ],
      "metadata": {
        "id": "WC_TNYNjGec_"
      },
      "execution_count": null,
      "outputs": []
    },
    {
      "cell_type": "code",
      "source": [
        "def bin2real(b, xmin, xmax):\n",
        "  # Conversão de inteiro para binário\n",
        "  s = 0\n",
        "  n = len(b)        # [s1,l] => Pega a dimensão 2\n",
        "  for l in range(n):\n",
        "    s = s + b[l]*pow(2,l)\n",
        "  return xmin + (xmax - xmin)*s/(pow(2,n)-1)"
      ],
      "metadata": {
        "id": "4xb2R-hSGec_"
      },
      "execution_count": null,
      "outputs": []
    },
    {
      "cell_type": "code",
      "source": [
        "# Criar divisor de bits a serem usados!\n",
        "def xj_range(bits, nx):\n",
        "  limites_xj = np.zeros((2,nx), dtype=int)\n",
        "  cont = 0\n",
        "  ik = bits\n",
        "  while ik <= (bits*nx):\n",
        "    \n",
        "    if ((ik) % bits == 0):    # Se ik for divisível por 20\n",
        "      \n",
        "      limites_xj[1,cont] = ik-1  # Atribui ub: 20, 40, 60, 80 (-1)\n",
        "      cont = cont + 1            # incrementa\n",
        "      if (cont < nx):\n",
        "        limites_xj[0,cont] = ik # Atribui lb: 20, 40, 60 (-1)\n",
        "      \n",
        "    ik = ik + 1\n",
        "  return limites_xj"
      ],
      "metadata": {
        "id": "leQEN-6hGec_"
      },
      "execution_count": null,
      "outputs": []
    },
    {
      "cell_type": "code",
      "source": [
        "xj_range(20, 4)"
      ],
      "metadata": {
        "colab": {
          "base_uri": "https://localhost:8080/"
        },
        "outputId": "43ecf576-f529-463d-b924-ad93ffa1b8ea",
        "id": "NWi00N9vGec_"
      },
      "execution_count": null,
      "outputs": [
        {
          "output_type": "execute_result",
          "data": {
            "text/plain": [
              "array([[ 0, 20, 40, 60],\n",
              "       [19, 39, 59, 79]])"
            ]
          },
          "metadata": {},
          "execution_count": 30
        }
      ]
    },
    {
      "cell_type": "code",
      "source": [
        "# Dividir X em nx parcelas de acordo com o limite em Xj_range\n",
        "# Supondo X = vt[i,:]\n",
        "\n",
        "def xj_divide(X, bits, nx):\n",
        "  limites = xj_range(bits,nx)\n",
        "\n",
        "  Xt = np.zeros((nx,bits), dtype=int)\n",
        "  i = 0\n",
        "  for i in range (nx):\n",
        "    Xt[i,:] = X[limites[0,i]:(limites[1,i]+1)]\n",
        "                                    # -> [0:19], python pega do 0 ao 18.\n",
        "                                    # O +1 resolve o problema\n",
        "  return Xt"
      ],
      "metadata": {
        "id": "GgB-0L1sGedA"
      },
      "execution_count": null,
      "outputs": []
    },
    {
      "cell_type": "code",
      "source": [
        "def criarpop(vetor, pop, cromo):\n",
        "  i = 0\n",
        "  for i in range(pop):                 # Cria-se uma linha(indivíduo) por vez\n",
        "    n = (np.random.rand(1,cromo))      # Vetor randômico de números entre 0 e 1\n",
        "    nr = np.around(n, 0)               # Arrendondam-se entre 0 e 1\n",
        "    vetor[i,:] = nr[:]  "
      ],
      "metadata": {
        "id": "h1kdGJIeGedA"
      },
      "execution_count": null,
      "outputs": []
    },
    {
      "cell_type": "code",
      "source": [
        "def Bin_xyzw_Real(vetor_bin, vetor_real, pop, xmin, xmax):\n",
        "  for i in range(pop):\n",
        "    Xj = vetor_bin[i,:]              # Extrai um individuo da pop\n",
        "    Xj_r = xj_divide(Xj, bits, nx)  # Leva para dividir nas N componentes dela (x,y,z,w)\n",
        "                            # Passa cada componente para valor real\n",
        "    Xj_r = np.transpose(Xj_r)\n",
        "    k = 0\n",
        "    for k in range (nx):\n",
        "      vetor_real[i,k] = bin2real(Xj_r[:,k], xmin[k], xmax[k])"
      ],
      "metadata": {
        "id": "kt4_zN54GedA"
      },
      "execution_count": null,
      "outputs": []
    },
    {
      "cell_type": "code",
      "source": [
        "def torneio(Fit_Especial,k):\n",
        "  # Especial: Escalonada, compartilhada\n",
        "  melhor_fitness = -1\n",
        "  vencedor = -1\n",
        "  for i in range(k):\n",
        "    competidor = U.randint(0,len(Fit_Especial)-1)\n",
        "    if Fit_Especial[competidor] > melhor_fitness:\n",
        "      melhor_fitness = Fit_Especial[competidor]\n",
        "      vencedor = competidor\n",
        "  return vencedor"
      ],
      "metadata": {
        "id": "K83q_obvGedA"
      },
      "execution_count": null,
      "outputs": []
    },
    {
      "cell_type": "code",
      "source": [
        "# Deprecado. Esconde os vetor_sortido do código.\n",
        "\n",
        "def NSGA(modo):\n",
        "  print('Problema: ' + modo)\n",
        "  Dominando(Fit, vRank, pop)\n",
        " \n",
        "  vRank_s = sortir(vRank, vRank, pop)\n",
        "  vt_real_s = sortir(vt_real, vRank, pop)\n",
        "  vt_bin_s = sortir(vt_bin, vRank, pop)\n",
        "  Fit_s = sortir(Fit, vRank, pop)\n",
        "\n",
        "  # Etapa 1: Número de ranks e membros por rank\n",
        "  memberCount = rankMembers(vRank_s)\n",
        "\n",
        "  FitComp = Fitness_NSGA(vt_real_s, vRank_s, memberCount, limXY , pop)\n",
        "  return [FitComp, memberCount]"
      ],
      "metadata": {
        "id": "zGG6FXYUGedA"
      },
      "execution_count": null,
      "outputs": []
    },
    {
      "cell_type": "code",
      "source": [
        "def selecao_maximizar(FitComp, pop):\n",
        "  i_selecionados = np.zeros((pop,1), dtype=int)\n",
        "  for k in range(pop):\n",
        "    i_selecionados[k] = torneio(FitComp, 3)\n",
        "  return i_selecionados"
      ],
      "metadata": {
        "id": "kN98ISq-GedB"
      },
      "execution_count": null,
      "outputs": []
    },
    {
      "cell_type": "code",
      "source": [
        "def criaPares(pop, indicesSelec):\n",
        "  vetor_pares = np.zeros((pop,2), dtype=int) # Indices dos pares \n",
        "  for p in range(pop):   # Preencher todos os filhos\n",
        "    for k in range(2):              # Escolher 2 dos selecionados de forma randomica\n",
        "      r = int(np.floor(pop*(U.random())))\n",
        "      vetor_pares[p,k] = indicesSelec[r]\n",
        "  return vetor_pares"
      ],
      "metadata": {
        "id": "rvlph6JjGedB"
      },
      "execution_count": null,
      "outputs": []
    },
    {
      "cell_type": "code",
      "source": [
        "def cruzamentoUmPonto(P_1, P_2, Filho):  # Crossover de 1 ponto\n",
        "  # Gerar máscara\n",
        "  m = int(np.floor(cromo*U.random()))   # Gera num entre 0 e cromo\n",
        "  Filho[0:m] = P_1[0:m]\n",
        "  Filho[m:cromo] = P_2[m:cromo]\n",
        "\n",
        "  return Filho"
      ],
      "metadata": {
        "id": "6M6-mGSFGedB"
      },
      "execution_count": null,
      "outputs": []
    },
    {
      "cell_type": "code",
      "source": [
        "def cruzamento(vetor_bin_S, indice_pares, filhos, Px):\n",
        "  for i in range(pop):\n",
        "    r = U.random()  # Porcentagem de crossover\n",
        "    if (r <= Px):\n",
        "      P_1 = vetor_bin_S[indice_pares[i,0]]\n",
        "      P_2 = vetor_bin_S[indice_pares[i,1]]\n",
        "      filhos[i,:] = cruzamentoUmPonto(P_1, P_2, filhos[i,:])\n",
        "    else:\n",
        "      filhos[i,:] = vetor_bin_S[indice_pares[i,0]]\n",
        "  # Se não tiver crossover, ele simplesmente deixa o filho como estava."
      ],
      "metadata": {
        "id": "dnzPtcVLGedB"
      },
      "execution_count": null,
      "outputs": []
    },
    {
      "cell_type": "code",
      "source": [
        "# Taxa de mutação: Pm = 0.02\n",
        "def mutacao(filho, cromo, Pm):\n",
        "  for i in range(cromo):\n",
        "    r = U.random()    # Porcentagem de crossover\n",
        "    if (r < Pm):     \n",
        "      filho[i] = int(not filho[i]) # Inversão com porta NOT, depois converte pra int\n",
        "  return filho"
      ],
      "metadata": {
        "id": "289D3llqGedB"
      },
      "execution_count": null,
      "outputs": []
    },
    {
      "cell_type": "code",
      "source": [
        ""
      ],
      "metadata": {
        "id": "VDh7Q--ZMMbr"
      },
      "execution_count": null,
      "outputs": []
    },
    {
      "cell_type": "markdown",
      "source": [
        "# Loop - NSGA binario p/ Max-Ex"
      ],
      "metadata": {
        "id": "UTcY3HkSMMwO"
      }
    },
    {
      "cell_type": "code",
      "source": [
        "# Parâmetros AG bin\n",
        "pop = 60\n",
        "MaxGen = 100\n",
        "filhospop = int(pop*0.8)\n",
        "doupop = int(pop*2)\n",
        "bits = 40\n",
        "nx = 2\n",
        "cromo = bits*nx\n",
        "Px = 0.95\n",
        "Pm = 0.02\n",
        "\n",
        "limXY =  [[0.1, 0],    # X, Y   # Min\n",
        "          [1  , 5]]             # Max\n",
        "xmin = limXY[0]\n",
        "xmax = limXY[1]\n",
        "\n",
        "# Criação de vetores\n",
        "vt_bin = np.zeros((pop, cromo), dtype=int)\n",
        "vt_real = np.zeros((pop, nx), dtype=float)\n",
        "Fit = np.zeros((pop,2))\n",
        "vRank = np.zeros((pop,1), dtype=int)\n",
        "\n",
        "filhos = np.zeros((pop, cromo), dtype=int)\n",
        "fi_real = np.zeros((pop, nx), dtype=float)\n",
        "fi_Fit = np.zeros((pop,2))\n",
        "fi_Rank = np.zeros((pop,1), dtype=int)\n",
        "\n",
        "\n",
        "dmatrix = np.zeros((pop,pop), dtype=float)\n",
        "nichomat = np.ones((pop,pop), dtype=float)\n",
        "nichoC = np.ones((pop,1), dtype=float)"
      ],
      "metadata": {
        "id": "Ju3n0HuLMMwR"
      },
      "execution_count": null,
      "outputs": []
    },
    {
      "cell_type": "code",
      "source": [
        "# Parâmetros NSGA\n",
        "alfa = 2\n",
        "alfaShare = 0.12\n",
        "epsilon = 0.1\n",
        "F_min = pop + epsilon\n",
        "\n",
        "# Inicialização\n",
        "criarpop(vt_bin, pop, cromo)\n",
        "print(vt_bin[0:3,:])\n",
        "\n",
        "\n",
        "# Conversão em Real e Cálculo de Fitness\n",
        "Bin_xyzw_Real(vt_bin, vt_real, pop, xmin, xmax)\n",
        "\n",
        "# Calculo da fit\n",
        "fitnessMO(vt_real, Fit, pop)\n",
        "\n",
        "print(Fit[0:3,:])"
      ],
      "metadata": {
        "colab": {
          "base_uri": "https://localhost:8080/"
        },
        "outputId": "ac560a0f-67c6-4913-cef5-a309cd8a24ed",
        "id": "fgUiDDfRMMwT"
      },
      "execution_count": null,
      "outputs": [
        {
          "output_type": "stream",
          "name": "stdout",
          "text": [
            "[[0 1 1 1 0 1 1 1 1 0 0 1 1 1 1 0 0 0 0 1 0 1 1 1 0 0 0 1 0 0 1 1 0 1 0 1\n",
            "  1 1 1 0 1 1 1 1 0 1 0 1 1 0 1 0 0 0 0 1 0 1 0 1 1 1 0 0 1 0 1 1 1 0 1 0\n",
            "  1 0 0 1 0 0 0 0]\n",
            " [1 1 1 1 0 0 1 0 1 1 0 1 1 1 0 1 0 1 1 0 1 1 0 1 1 1 0 1 0 1 1 0 1 0 1 0\n",
            "  1 0 0 0 1 1 0 1 0 0 0 0 1 0 0 1 0 1 1 1 1 0 1 1 0 1 1 1 0 1 1 0 1 0 1 1\n",
            "  0 1 0 1 0 0 0 0]\n",
            " [0 0 0 0 1 0 1 0 0 1 1 0 1 1 1 0 1 0 1 1 0 1 0 0 1 1 0 0 1 0 1 0 0 0 1 0\n",
            "  0 0 0 1 0 0 1 1 1 1 1 0 0 1 0 1 1 1 1 1 1 1 0 0 1 0 0 0 0 0 1 0 1 1 1 1\n",
            "  0 0 1 1 1 1 0 0]]\n",
            "[[ 0.5683347  57.77511524]\n",
            " [ 0.92469265 53.08808036]\n",
            " [ 0.53479523 56.12441934]]\n"
          ]
        }
      ]
    },
    {
      "cell_type": "code",
      "source": [
        "#MaxGen = 300\n",
        "# Temos vt_bin inicializado\n",
        "for i in range(MaxGen):\n",
        "  \n",
        "  ### Fitness dos valores Reais\n",
        "  Bin_xyzw_Real(vt_bin, vt_real, pop, xmin, xmax)\n",
        "  fitnessMO(vt_real, Fit, pop)\n",
        "  Dominando(Fit, vRank, pop)\n",
        "\n",
        "  vRank_s = sortir(vRank, vRank, pop)\n",
        "  vt_real_s = sortir(vt_real, vRank, pop)\n",
        "  vt_bin_s = sortir(vt_bin, vRank, pop)\n",
        "  Fit_s = sortir(Fit, vRank, pop)\n",
        "\n",
        "  vt_bin_s = vt_bin_s.astype(int)\n",
        "  vRank_s = vRank_s.astype(int)\n",
        "\n",
        "  # Número de ranks e membros por rank e Fit compartilhada\n",
        "  memberCount = rankMembers(vRank_s)\n",
        "  FitComp = Fitness_NSGA(vt_real_s, vRank_s, memberCount, limXY , pop)\n",
        "\n",
        "  ### Algoritmo Genético binário\n",
        "  iSelecionados = selecao_maximizar(FitComp, pop) # Seleção\n",
        "  paresRep = criaPares(pop, iSelecionados)\n",
        "  cruzamento(vt_bin_s, paresRep, filhos, Px)      # Crossover\n",
        "  for i in range(pop):                          \n",
        "    filhos[i,:] = mutacao(filhos[i,:],cromo,Pm)   # Mutação \n",
        "  \n",
        "  ### Calcular Fit dos filhos\n",
        "  Bin_xyzw_Real(filhos, fi_real, pop, xmin, xmax)\n",
        "  fitnessMO(fi_real, fi_Fit, pop)\n",
        "\n",
        "  Dominando(fi_Fit, fi_Rank, pop)\n",
        "\n",
        "  fi_Rank_s = sortir(fi_Rank, fi_Rank, pop)\n",
        "  fi_real_s = sortir(fi_real, fi_Rank, pop)\n",
        "  filhos_s = sortir(filhos, fi_Rank, pop)\n",
        "  fi_Fit_s = sortir(fi_Fit, fi_Rank, pop)\n",
        "\n",
        "  filhos_s = filhos_s.astype(int)\n",
        "  fi_Rank_s = fi_Rank_s.astype(int)\n",
        "\n",
        "  # Número de ranks e membros por rank, fitness compartilhada\n",
        "  filhosCount = rankMembers(fi_Rank_s)\n",
        "  fi_FitComp = Fitness_NSGA(fi_real_s, fi_Rank_s, filhosCount, limXY , pop)\n",
        "\n",
        "  ### Atualizar população\n",
        "\n",
        "  novagen = np.zeros((pop, cromo), dtype=int)\n",
        "\n",
        "  FitComp_filhos = np.copy(fi_FitComp)\n",
        "  filhosSortidos = np.copy(filhos_s)\n",
        "  FitComp_pop = np.copy(FitComp)\n",
        "  popSortidos = np.copy(vt_bin_s)\n",
        "\n",
        "  # 20% dos pais\n",
        "  # 80% dos filhos\n",
        "  for i in range(pop):\n",
        "    if i < (filhospop): \n",
        "      ik = torneio(FitComp_filhos, 3)\n",
        "      novagen[i,:] = filhosSortidos[ik,:]\n",
        "      FitComp_filhos = np.delete(FitComp_filhos,ik, axis=0)\n",
        "      filhosSortidos = np.delete(filhosSortidos,ik, axis=0)\n",
        "    if i >= (filhospop):\n",
        "      ik = torneio(FitComp_pop, 4)\n",
        "      novagen[i,:] = popSortidos[ik,:]\n",
        "      FitComp_pop = np.delete(FitComp_pop,ik, axis=0)\n",
        "      popSortidos = np.delete(popSortidos,ik, axis=0)\n",
        "\n",
        "  # print(novagen[0:4])\n",
        "  # print(novagen[pop-4:pop])\n",
        "\n",
        "  # Atribui novo valor e reinicia\n",
        "  vt_bin = novagen\n"
      ],
      "metadata": {
        "id": "GPrBTgquMMwV"
      },
      "execution_count": null,
      "outputs": []
    },
    {
      "cell_type": "code",
      "source": [
        " ### Cálculo da fit básica da nova geração\n",
        "novagenReal = np.zeros((pop,nx))\n",
        "Bin_xyzw_Real(novagen, novagenReal, pop, xmin, xmax)\n",
        "Fit_fim = np.zeros((pop,nx), dtype=float)\n",
        "fitnessMO(novagenReal, Fit_fim, pop)\n",
        "print(Fit_fim[0:4])\n",
        "\n",
        "fig1, ax1 = plt.subplots()\n",
        "ax1.scatter(Fit_fim[:,0], Fit_fim[:,1])\n",
        "plt.title('Problema Max-Ex')\n",
        "plt.show()"
      ],
      "metadata": {
        "colab": {
          "base_uri": "https://localhost:8080/"
        },
        "outputId": "5ed6847d-75d8-4d16-d95c-5e6e4d1694eb",
        "id": "5_7V0auBMMwZ"
      },
      "execution_count": null,
      "outputs": [
        {
          "output_type": "stream",
          "name": "stdout",
          "text": [
            "[[ 0.54646369 58.19096954]\n",
            " [ 0.43727375 58.49086508]\n",
            " [ 0.21072837 58.87540564]\n",
            " [ 0.43727365 58.49086532]]\n"
          ]
        },
        {
          "output_type": "display_data",
          "data": {
            "text/plain": [
              "<Figure size 432x288 with 1 Axes>"
            ],
            "image/png": "[encoded data removed]"
          },
          "metadata": {
            "needs_background": "light"
          }
        }
      ]
    }
  ],
  "metadata": {
    "colab": {
      "name": "Enviado AAC5 - NSGA Refeito.ipynb",
      "provenance": [],
      "collapsed_sections": [
        "WA7GBhMYFn8m",
        "BzVA3HuggOKJ"
      ],
      "authorship_tag": "ABX9TyMvxmgxOlMB0q1zRoXbXEVi",
      "include_colab_link": true
    },
    "kernelspec": {
      "display_name": "Python 3",
      "name": "python3"
    },
    "language_info": {
      "name": "python"
    }
  },
  "nbformat": 4,
  "nbformat_minor": 0
}